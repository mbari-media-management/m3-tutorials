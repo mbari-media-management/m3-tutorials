{
 "cells": [
  {
   "cell_type": "markdown",
   "metadata": {},
   "source": [
    "# Annosaurus Tutorial\n",
    "\n",
    "This python3 notebook demonstrates the usage of the [Annosaurus](https://github.com/underwatervideo/annosaurus) API which is used for creating and editing video annotations. To get started you will need to start annosaurus. If you have [Docker](https://www.docker.com/) installed you can spin up annosaurus for testing with:\n",
    "\n",
    "```\n",
    "docker run --name=anno -p 8080:8080 mbari/annosaurus\n",
    "```\n",
    "\n",
    "\n",
    "### Configure imports and define helper functions"
   ]
  },
  {
   "cell_type": "code",
   "execution_count": null,
   "metadata": {
    "collapsed": true
   },
   "outputs": [],
   "source": [
    "import datetime\n",
    "import json\n",
    "import pprint\n",
    "import random\n",
    "import requests\n",
    "import urllib\n",
    "import uuid\n",
    "\n",
    "def show(s, data = None):\n",
    "    pp = pprint.PrettyPrinter(indent=2)\n",
    "    print(\"--- \" + s)\n",
    "    if data:\n",
    "      pp.pprint(data)\n",
    "    \n",
    "def iso8601():\n",
    "    return datetime.datetime.now(datetime.timezone.utc).isoformat()[0:-6] + \"Z\"\n",
    "    \n",
    "def parse_response(r):\n",
    "    try:\n",
    "       return json.loads(r.text)\n",
    "    except:\n",
    "        s = \"URL: %s\\n%s (%s): %s\" % (r.request.url, r.status_code, r.reason, r.text)\n",
    "        print(s)\n",
    "        return {}\n",
    "    \n",
    "    \n",
    "def delete(url):\n",
    "    return parse_response(requests.delete(url))\n",
    "\n",
    "def get(url):\n",
    "    return parse_response(requests.get(url))\n",
    "    \n",
    "def post(url, data = {}):\n",
    "    return parse_response(requests.post(url, data))\n",
    "\n",
    "def put(url, data = {}):\n",
    "    return parse_response(requests.put(url, data))\n"
   ]
  },
  {
   "cell_type": "markdown",
   "metadata": {},
   "source": [
    "### Define URLs\n",
    "\n",
    "Normally in an app or script you just define the endpoint and build the other API urls from that."
   ]
  },
  {
   "cell_type": "code",
   "execution_count": null,
   "metadata": {
    "collapsed": true
   },
   "outputs": [],
   "source": [
    "# Define endpoint. \n",
    "endpoint = \"http://10.0.1.251:8080\"\n",
    "\n",
    "annotation_url = \"%s/v1/annotations\" % (endpoint)\n",
    "image_url = \"%s/v1/images\" % (endpoint)\n",
    "image_reference_url = \"%s/v1/imagereferences\" % (endpoint)\n",
    "imaged_moment_url = \"%s/v1/imagedmoments\" % (endpoint)\n",
    "observation_url = \"%s/v1/observations\" % (endpoint)\n",
    "association_url = \"%s/v1/associations\" % (endpoint)\n"
   ]
  },
  {
   "cell_type": "markdown",
   "metadata": {},
   "source": [
    "# High-level APIs\n",
    "\n",
    "The Annotation and Image APIs are high-level APIs to greatly simplify general usage. They are an abstraction for the lower level _ImagedMoment_, _Observation_, _ImageReference_, and _Association_ APIs. For creating and updating annotations and images, use the highly level APIs. If you need to delete or do fancy stuff you can use the lower level APIs\n",
    "\n",
    "## Annotation API\n",
    "\n",
    "The annotation API is used for creating and modifying annotations. You __can not delete__ with this API. Instead, you use the _Observation API_.\n",
    "\n",
    "Note that the APIs use [UUIDs](https://en.wikipedia.org/wiki/Universally_unique_identifier) as keys to identify particular items. \n",
    "\n",
    "### Create"
   ]
  },
  {
   "cell_type": "code",
   "execution_count": null,
   "metadata": {
    "collapsed": false
   },
   "outputs": [],
   "source": [
    "# id to a video file. Typically you get this from your video asset manager. \n",
    "# We're just creating a random one to use for this demo.\n",
    "video_reference_uuid = str(uuid.uuid4())\n",
    "\n",
    "# Create w/ minimum allowed fields\n",
    "annotation = post(annotation_url,\n",
    "                  data = {\"video_reference_uuid\": video_reference_uuid,\n",
    "                          \"concept\": \"Nanomia bijuga\",\n",
    "                          \"observer\": \"brian\",\n",
    "                          \"recorded_timestamp\": \"2016-07-28T14:29:01.030Z\"})\n",
    "show(\"POST: \" + annotation_url, annotation)\n"
   ]
  },
  {
   "cell_type": "code",
   "execution_count": null,
   "metadata": {
    "collapsed": false,
    "scrolled": true
   },
   "outputs": [],
   "source": [
    "# Create with all possible fields, including optional values\n",
    "annotation = post(annotation_url,\n",
    "                  data = {\"video_reference_uuid\": video_reference_uuid,      # video or image grouping\n",
    "                          \"concept\": \"Aegina citrea\",                        # Name of what you saw\n",
    "                          \"observer\": \"schlin\",                              # Who made the observation\n",
    "                          \"observation_timestamp\": \"2016-07-28T15:01:02Z\",   # When the observation was make. Default is the servers timestamp\n",
    "                          \"timecode\": \"01:23:34:09\",                         # A tape timecode of annotation\n",
    "                          \"elapsed_time_millis\": \"112345\",                   # Time since start of video of annotation\n",
    "                          \"duration_millis\": \"1200\",                         # How long was object observed\n",
    "                          \"group\": \"ROV\",                                    # A logical group. At MBARI, we might use \"ROV\", \"AUV\", \"Station M\"\n",
    "                          \"activity\": \"transect\",                            # Another logical group. At MBARI, we would use, ascent, descent, transect, cruise, etc.\n",
    "                          \"recorded_timestamp\": \"2016-07-28T14:39:02.123Z\"}) # The time the frame was recorded. e.g. We saw this Aegina on this date.\n",
    "show(\"POST: \" + annotation_url, annotation)"
   ]
  },
  {
   "cell_type": "markdown",
   "metadata": {},
   "source": [
    "### Update"
   ]
  },
  {
   "cell_type": "code",
   "execution_count": null,
   "metadata": {
    "collapsed": false
   },
   "outputs": [],
   "source": [
    "# Update/Modify an existing annotation\n",
    "\n",
    "observation_uuid = annotation[\"observation_uuid\"]\n",
    "\n",
    "# At a minimum you need the observation_uuid and one field. The observation_timestamp\n",
    "# will automatically be updated to the time on the server (UTC). Here we just change\n",
    "# the concept name. Normally, you might need to update the observer field too.\n",
    "url = \"%s/%s\" % (annotation_url, observation_uuid)\n",
    "annotation = put(url,\n",
    "                 data = {\"observation_uuid\": observation_uuid,\n",
    "                         \"concept\": \"Atolla\"})\n",
    "show(\"PUT: \" + url, annotation)"
   ]
  },
  {
   "cell_type": "code",
   "execution_count": null,
   "metadata": {
    "collapsed": false
   },
   "outputs": [],
   "source": [
    "# You can update any and all fields in one call as we do here.\n",
    "annotation = put(url,\n",
    "                  data = {\"video_reference_uuid\": str(uuid.uuid4()),         # Here we move the annotation to a new video\n",
    "                          \"concept\": \"Pandalus platyceros\",                  # Name of what you saw\n",
    "                          \"observer\": \"danelle\",                             # Who made the observation\n",
    "                          \"observation_timestamp\": iso8601(),                # When the observation was make. Default is the servers timestamp\n",
    "                          \"timecode\": \"08:00:34:09\",                         # A tape timecode of annotation\n",
    "                          \"elapsed_time_millis\": \"3045999\",                  # Time since start of video of annotation\n",
    "                          \"duration_millis\": \"8\",                            # How long was object observed\n",
    "                          \"group\": \"AUV\",                                    # A logical group. At MBARI, we might use \"ROV\", \"AUV\", \"Station M\"\n",
    "                          \"activity\": \"descent\",                             # Another logical group. At MBARI, we would use, ascent, descent, transect, cruise, etc.\n",
    "                          \"recorded_timestamp\": \"2017-07-28T14:39:02.123Z\"}) # The time the frame was recorded. e.g. We saw this Aegina on this date.\n",
    "show(\"PUT: \" + url, annotation)\n"
   ]
  },
  {
   "cell_type": "markdown",
   "metadata": {},
   "source": [
    "### Find"
   ]
  },
  {
   "cell_type": "code",
   "execution_count": null,
   "metadata": {
    "collapsed": false
   },
   "outputs": [],
   "source": [
    "# Find an annotation by observation_uuid\n",
    "url = \"%s/%s\" % (annotation_url, annotation[\"observation_uuid\"])\n",
    "annotation = get(url)\n",
    "show(\"GET: \" + url, annotation)"
   ]
  },
  {
   "cell_type": "code",
   "execution_count": null,
   "metadata": {
    "collapsed": false
   },
   "outputs": [],
   "source": [
    "# Find all annotation for a specific video\n",
    "url = \"%s/videoreference/%s\" % (annotation_url, annotation[\"video_reference_uuid\"])\n",
    "annotations = get(url)\n",
    "show(\"GET: \" + url, annotations)"
   ]
  },
  {
   "cell_type": "markdown",
   "metadata": {},
   "source": [
    "## Image API\n",
    "\n",
    "The image API is for registering images. These image can be associated with a particular video but do not have to be. Images are referenced via a URL, not a file path.\n",
    "\n",
    "### Create"
   ]
  },
  {
   "cell_type": "code",
   "execution_count": null,
   "metadata": {
    "collapsed": false
   },
   "outputs": [],
   "source": [
    "# Although called 'video_reference_uuid', it's a logical group for annotations. \n",
    "# For an image set this might just be a random value.\n",
    "video_reference_uuid = annotation['video_reference_uuid']\n",
    "\n",
    "# Minimum required fields. Note that one or more indexes are required. I use recorded_timestamp here, \n",
    "# but you could also use 'elapased_time_millis' or 'timecode'\n",
    "image = post(image_url, data = {\n",
    "    \"video_reference_uuid\": video_reference_uuid,\n",
    "    \"url\": \"http://foobar.org/awesomeimage_\" + str(random.randint(0, 100000)) + \".jpg\",\n",
    "    \"recorded_timestamp\": annotation['recorded_timestamp']})\n",
    "show(\"POST:\" + image_url, image)\n"
   ]
  },
  {
   "cell_type": "code",
   "execution_count": null,
   "metadata": {
    "collapsed": false
   },
   "outputs": [],
   "source": [
    "# Create with all fields\n",
    "image = post(image_url, data = {\n",
    "    \"video_reference_uuid\": video_reference_uuid,\n",
    "    \"url\": \"http://foobar.org/onfleekimage_\" + str(random.randint(0, 100000)) + \".jpg\",\n",
    "    \"recorded_timestamp\": iso8601(),\n",
    "    \"timecode\": \"01:23:45:09\",\n",
    "    \"elapsed_time_millis\": 123456,\n",
    "    \"width_pixels\": 1920,\n",
    "    \"height_pixels\": 1080,\n",
    "    \"format\": \"image/jpg\",\n",
    "    \"description\": \"left-image\"})\n",
    "show(\"POST: \" + image_url , image)"
   ]
  },
  {
   "cell_type": "markdown",
   "metadata": {},
   "source": [
    "### Update"
   ]
  },
  {
   "cell_type": "code",
   "execution_count": null,
   "metadata": {
    "collapsed": false
   },
   "outputs": [],
   "source": [
    "# This changes all parameters, but you only need to include the ones you want to change\n",
    "url = \"%s/%s\" % (image_url, image['image_reference_uuid'])\n",
    "image = put(url, data = {\n",
    "        \"video_reference_uuid\": str(uuid.uuid4()),\n",
    "        \"url\": \"http://foobar.org/yodaimage_\" + str(random.randint(0, 100000)) + \".tif\",\n",
    "        \"recorded_timestamp\": iso8601(),\n",
    "        \"timecode\": \"02:00:15:19\",\n",
    "        \"elapsed_time_millis\": 666,\n",
    "        \"width_pixels\": 2920,\n",
    "        \"height_pixels\": 980,\n",
    "        \"format\": \"image/tiff\",\n",
    "        \"description\": \"right-image\"})\n",
    "show(\"PUT: \" + url, image) "
   ]
  },
  {
   "cell_type": "markdown",
   "metadata": {},
   "source": [
    "### Find"
   ]
  },
  {
   "cell_type": "code",
   "execution_count": null,
   "metadata": {
    "collapsed": false
   },
   "outputs": [],
   "source": [
    "# Find an image by image_reference_uuid\n",
    "url = \"%s/%s\" %(image_url, image['image_reference_uuid'])\n",
    "image = get(url)\n",
    "show(\"GET: \" + url, image)"
   ]
  },
  {
   "cell_type": "code",
   "execution_count": null,
   "metadata": {
    "collapsed": false
   },
   "outputs": [],
   "source": [
    "# Find all images for a given group (or video)\n",
    "url = \"%s/videoreference/%s\" % (image_url, video_reference_uuid)\n",
    "images = get(url)\n",
    "show(\"GET: \" + url, images)"
   ]
  },
  {
   "cell_type": "code",
   "execution_count": null,
   "metadata": {
    "collapsed": false
   },
   "outputs": [],
   "source": [
    "# Find image metadata by a URL. Note: you can not use the raw url, urlencode it first\n",
    "encoded_url = urllib.parse.quote_plus(image['url'])\n",
    "url = \"%s/url/%s\" % (image_url, encoded_url)\n",
    "image = get(url)\n",
    "show(\"GET: \" + url, image)"
   ]
  },
  {
   "cell_type": "markdown",
   "metadata": {},
   "source": [
    "# Low Level APIs\n",
    "\n",
    "## API Diagram\n",
    "\n",
    "![UML Class Diagram](https://github.com/underwatervideo/annosaurus/raw/master/src/site/images/annosaurus_classes.png)\n",
    "\n",
    "## Association API\n",
    "\n",
    "Associations are extra descriptions that you can attach to your annotation. Things like color, comments, resting upon, position in the image, a measurement, etc. Associations have the form 'link name | to concept | link value'. \n",
    "\n",
    "- link name: Tells you what the association contains. e.g. 'comment' or 'upon substrate'\n",
    "- to concept: Indicates are relation. For example if your _link name_ is `eating` the _to concept_ indicates what it's eating. e.g. 'Squid'. When referring to itself, the custom is to use a _to concept_ of `self`. (self is the default if you don't supply a _to concept_. e.g `eating | squid | nil`\n",
    "- link value: A value for the association. The default value is `nil`. Some examples:\n",
    "  - `population quantity | self | 12`\n",
    "  - `surface color | self | red`\n",
    "  - `distance measurement | self | {\"image_reference_uuid\": \"acc435...\", \"x\": [100, 234], \"y\": [34 1200], \"comment\": \"dorsal spine\"}`\n",
    "  \n",
    "A final optional parameter is the mimetype of the _link value_. The default is `text/plain`, but it could `application/json` or whatever your specific application needs\n",
    "\n",
    "### Create"
   ]
  },
  {
   "cell_type": "code",
   "execution_count": null,
   "metadata": {
    "collapsed": false
   },
   "outputs": [],
   "source": [
    "# Create with minimum required parameters\n",
    "association = post(association_url, data = {\n",
    "    \"observation_uuid\": annotation['observation_uuid'],\n",
    "    \"link_name\": \"swimming\"})\n",
    "show(\"POST: \" + association_url, association)"
   ]
  },
  {
   "cell_type": "code",
   "execution_count": null,
   "metadata": {
    "collapsed": false
   },
   "outputs": [],
   "source": [
    "# Create with all possible parameters\n",
    "association = post(association_url, data = {\n",
    "    \"observation_uuid\": annotation['observation_uuid'],\n",
    "    \"link_name\": \"distance measurement\", \n",
    "    \"to_concept\": \"self\",\n",
    "    \"link_value\": '{\"image_reference_uuid\":' + image['image_reference_uuid'] + ', \"x\": [100, 234], \"y\": [34 1200], \"comment\": \"dorsal spine\"}',\n",
    "    \"mime_type\": \"application/json\"})\n",
    "show(\"POST: \" + association_url, association)"
   ]
  },
  {
   "cell_type": "markdown",
   "metadata": {},
   "source": [
    "### Update"
   ]
  },
  {
   "cell_type": "code",
   "execution_count": null,
   "metadata": {
    "collapsed": false
   },
   "outputs": [],
   "source": [
    "# Modify an existing association. We use all fields here but normally\n",
    "# just include the ones you are changing\n",
    "url = \"%s/%s\" % (association_url, association['uuid'])\n",
    "association = put(url, data = {\n",
    "    \"observation_uuid\": annotation[\"observation_uuid\"],\n",
    "    \"link_name\": \"eating\",\n",
    "    \"to_concept\": \"Cranchia scabra\",\n",
    "    \"link_value\": \"nil\",\n",
    "    \"mime_type\": \"text/plain\"})\n",
    "show(\"PUT: \" + url, association)"
   ]
  },
  {
   "cell_type": "code",
   "execution_count": null,
   "metadata": {
    "collapsed": false
   },
   "outputs": [],
   "source": [
    "# Special method to change ALL to_concepts in the data store. Useful when you've changed\n",
    "# a species name and need to update all data\n",
    "url = \"%s/toconcept/rename\" % (association_url)\n",
    "r = put(url, data = {\n",
    "        \"old\": \"Cranchia scabra\",\n",
    "        \"new\": \"Taonius borealis\"})\n",
    "show(\"PUT: \" + url, r)"
   ]
  },
  {
   "cell_type": "markdown",
   "metadata": {},
   "source": [
    "### Find"
   ]
  },
  {
   "cell_type": "code",
   "execution_count": null,
   "metadata": {
    "collapsed": false
   },
   "outputs": [],
   "source": [
    "# Find by uuid\n",
    "url = \"%s/%s\" % (association_url, association['uuid'])\n",
    "association = get(url)\n",
    "show(\"GET: \" + url, association)"
   ]
  },
  {
   "cell_type": "code",
   "execution_count": null,
   "metadata": {
    "collapsed": false
   },
   "outputs": [],
   "source": [
    "# Find all associations in a video or image group with a given link_name\n",
    "url = \"%s/%s/%s\" % (association_url, annotation['video_reference_uuid'], \"eating\")\n",
    "associations = get(url)\n",
    "show(\"GET: \" + url, associations)"
   ]
  },
  {
   "cell_type": "code",
   "execution_count": null,
   "metadata": {
    "collapsed": false
   },
   "outputs": [],
   "source": [
    "# Count the number of usages of a particular to_concept.\n",
    "url = \"%s/toconcept/count/%s\" % (association_url, \"Taonius borealis\")\n",
    "r = get(url)\n",
    "show(\"GET: \" + url, r)"
   ]
  },
  {
   "cell_type": "markdown",
   "metadata": {},
   "source": [
    "### Delete"
   ]
  },
  {
   "cell_type": "code",
   "execution_count": null,
   "metadata": {
    "collapsed": false
   },
   "outputs": [],
   "source": [
    "url = \"%s/%s\" % (association_url, association['uuid'])\n",
    "delete(url)"
   ]
  },
  {
   "cell_type": "markdown",
   "metadata": {},
   "source": [
    "## ImagedMoment API\n",
    "\n",
    "All images and annotations must be related back to real-world time AND/OR a moment in a video. This is represented by an imaged moment which contains one or more of the following:\n",
    "\n",
    "- timecode\n",
    "- elapsed time (since the start of a video)\n",
    "- recorded timestamp (the time that an image or video frame was captured\n",
    "\n",
    "When you set one of these indicies using the Annotation or Image API the appropriate imaged moment is created (if needed) or the data will be moved to an existing imaged moment. You can __not__ create an ImagedMoment directly with this API.\n",
    "\n",
    "### Find"
   ]
  },
  {
   "cell_type": "code",
   "execution_count": null,
   "metadata": {
    "collapsed": false
   },
   "outputs": [],
   "source": [
    "# Find all (by default the limit and offset are 1000 and 0 repspectively)\n",
    "imaged_moments = get(imaged_moment_url)\n",
    "show(\"GET: \" + imaged_moment_url, imaged_moments)\n"
   ]
  },
  {
   "cell_type": "code",
   "execution_count": null,
   "metadata": {
    "collapsed": false
   },
   "outputs": [],
   "source": [
    "# Find all using explicit limit and offset\n",
    "url = \"%s?limit=2&offset=0\" % (imaged_moment_url)\n",
    "imaged_moments = get(url)\n",
    "show(\"GET: \" + url, imaged_moments)"
   ]
  },
  {
   "cell_type": "code",
   "execution_count": null,
   "metadata": {
    "collapsed": false
   },
   "outputs": [],
   "source": [
    "# Find one by its UUID\n",
    "url = \"%s/%s\" % (imaged_moment_url, imaged_moments[0]['uuid'])\n",
    "imaged_moment = get(url)\n",
    "show(\"GET: \"+ url, imaged_moment)"
   ]
  },
  {
   "cell_type": "code",
   "execution_count": null,
   "metadata": {
    "collapsed": false
   },
   "outputs": [],
   "source": [
    "# Find all video_reference_uuids used in the entire database\n",
    "url = \"%s/videoreference\" % (imaged_moment_url)\n",
    "vrs = get(url)\n",
    "show(\"GET: \" + url, vrs)"
   ]
  },
  {
   "cell_type": "code",
   "execution_count": null,
   "metadata": {
    "collapsed": false
   },
   "outputs": [],
   "source": [
    "# Find video_reference_uuids used in the database but limit with limit and offset\n",
    "url = \"%s/videoreference?limit=2&offset=0\" % (imaged_moment_url)\n",
    "vrs = get(url)\n",
    "show(\"GET: \" + url, vrs)"
   ]
  },
  {
   "cell_type": "code",
   "execution_count": null,
   "metadata": {
    "collapsed": false
   },
   "outputs": [],
   "source": [
    "# Find all imaged moments for a given video\n",
    "url = \"%s/videoreference/%s\" % (imaged_moment_url, vrs[0])\n",
    "imaged_moments = get(url)\n",
    "show(\"GET: \" + url, imaged_moments)"
   ]
  },
  {
   "cell_type": "code",
   "execution_count": null,
   "metadata": {
    "collapsed": false
   },
   "outputs": [],
   "source": [
    "# Find an imaged moment by one of the observations it contains\n",
    "url = \"%s/observation/%s\" % (imaged_moment_url, annotation['observation_uuid'])\n",
    "imaged_moment = get(url)\n",
    "show(\"GET: \" + url, imaged_moment)"
   ]
  },
  {
   "cell_type": "markdown",
   "metadata": {},
   "source": [
    "### Update"
   ]
  },
  {
   "cell_type": "code",
   "execution_count": null,
   "metadata": {
    "collapsed": false
   },
   "outputs": [],
   "source": [
    "# We show all possible fields here, but you only need to include the ones you change\n",
    "url = \"%s/%s\" % (imaged_moment_url, imaged_moment['uuid'])\n",
    "imaged_moment = put(url, data = {\n",
    "    \"timecode\": \"11:22:33:00\",\n",
    "    \"elapsed_time\": 100,\n",
    "    \"recorded_timestamp\": iso8601(),\n",
    "    \"video_reference_uuid\": str(uuid.uuid4())})\n",
    "show(\"PUT: \" + url, imaged_moment)"
   ]
  },
  {
   "cell_type": "markdown",
   "metadata": {},
   "source": [
    "### Delete\n",
    "\n",
    "Be aware that deleting an imaged moment deletes it, all the observations at that moment, all image references at that moment and all ancillary data at that moment. Be sure that's really what you want to do."
   ]
  },
  {
   "cell_type": "code",
   "execution_count": null,
   "metadata": {
    "collapsed": false
   },
   "outputs": [],
   "source": [
    "url = \"%s/%s\" % (imaged_moment_url, imaged_moment['uuid'])\n",
    "delete(url)"
   ]
  },
  {
   "cell_type": "markdown",
   "metadata": {},
   "source": [
    "## Observation API\n",
    "\n",
    "Observations are the individual annotations. Thsi API has a number of find operations, an update one (although you can use the annotation api for that) and allows you to delete individual observations\n",
    "\n"
   ]
  },
  {
   "cell_type": "code",
   "execution_count": null,
   "metadata": {
    "collapsed": false
   },
   "outputs": [],
   "source": [
    "# House keeping. Since we're deleting stuff, let's make sure we have something to work with\n",
    "# Create an new annotation\n",
    "annotation = post(annotation_url,\n",
    "                  data = {\"video_reference_uuid\": str(uuid.uuid4()),\n",
    "                          \"concept\": \"Nanomia bijuga\",\n",
    "                          \"observer\": \"brian\",\n",
    "                          \"recorded_timestamp\": iso8601()})\n",
    "\n",
    "association = post(association_url, data = {\n",
    "    \"observation_uuid\": annotation['observation_uuid'],\n",
    "    \"link_name\": \"swimming\"})\n",
    "\n",
    "image = post(image_url, data = {\n",
    "    \"video_reference_uuid\": annotation['video_reference_uuid'],\n",
    "    \"url\": \"http://foobar.org/awesomeimage_\" + str(random.randint(0, 100000)) + \".jpg\",\n",
    "    \"recorded_timestamp\": annotation['recorded_timestamp']})\n"
   ]
  },
  {
   "cell_type": "markdown",
   "metadata": {
    "collapsed": true
   },
   "source": [
    "### Find"
   ]
  },
  {
   "cell_type": "code",
   "execution_count": null,
   "metadata": {
    "collapsed": false,
    "scrolled": true
   },
   "outputs": [],
   "source": [
    "# Find an observation by its uuid\n",
    "url = \"%s/%s\" % (observation_url, annotation['observation_uuid'])\n",
    "observation = get(url)\n",
    "show(\"GET: \" + url, observation)"
   ]
  },
  {
   "cell_type": "code",
   "execution_count": null,
   "metadata": {
    "collapsed": false
   },
   "outputs": [],
   "source": [
    "# Find observations by video\n",
    "url = \"%s/videoreference/%s\" % (observation_url, annotation['video_reference_uuid'])\n",
    "observations = get(url)\n",
    "show(\"GET: \" + url, observations)"
   ]
  },
  {
   "cell_type": "code",
   "execution_count": null,
   "metadata": {
    "collapsed": false
   },
   "outputs": [],
   "source": [
    "# Find by an observation by an association it contains\n",
    "url = \"%s/association/%s\" % (observation_url, association['uuid'])\n",
    "observation = get(url)\n",
    "show(\"GET: \" + url, observation)"
   ]
  },
  {
   "cell_type": "code",
   "execution_count": null,
   "metadata": {
    "collapsed": false
   },
   "outputs": [],
   "source": [
    "# Find all concepts used on all annotations\n",
    "url = \"%s/concepts\" % (observation_url)\n",
    "concepts = get(url)\n",
    "show(\"GET: \" + url, concepts)"
   ]
  },
  {
   "cell_type": "code",
   "execution_count": null,
   "metadata": {
    "collapsed": false
   },
   "outputs": [],
   "source": [
    "# Find all concepts used when annotating a particular video or image group\n",
    "url = \"%s/concepts/%s\" % (observation_url, annotation['video_reference_uuid'])\n",
    "concepts = get(url)\n",
    "show(\"GET: \" + url, concepts)"
   ]
  },
  {
   "cell_type": "code",
   "execution_count": null,
   "metadata": {
    "collapsed": false
   },
   "outputs": [],
   "source": [
    "# Get a count of occurences of obserations with a particular concept\n",
    "url = \"%s/concept/count/%s\" % (observation_url, concepts[0])\n",
    "n = get(url)\n",
    "show(\"GET: \" + url, n)"
   ]
  },
  {
   "cell_type": "markdown",
   "metadata": {},
   "source": [
    "### Update"
   ]
  },
  {
   "cell_type": "code",
   "execution_count": null,
   "metadata": {
    "collapsed": false
   },
   "outputs": [],
   "source": [
    "# Update with all fields. Normally, just include the fields that you want to change\n",
    "url = \"%s/%s\" % (observation_url, annotation['observation_uuid'])\n",
    "observation = put(url, data = {\n",
    "    \"concept\": \"Teuthoidea\",\n",
    "    \"observer\": \"Barack Obama\",\n",
    "    \"observation_timestamp\": iso8601(),\n",
    "    \"duration\": 1000,\n",
    "    \"group\": \"AUV Dorado\",\n",
    "    \"activity\": \"descent\"})\n",
    "# There's also an imaged_moment_uuid field if you want to move an observation to a different moment.\n",
    "# I didn't include it because of time and more complicated setup.\n",
    "\n",
    "show(\"PUT: \" + url, observation)"
   ]
  },
  {
   "cell_type": "code",
   "execution_count": null,
   "metadata": {
    "collapsed": false
   },
   "outputs": [],
   "source": [
    "# Update all observations that use a concept, e.g. renamed species\n",
    "# i.e. Globally change a concept in the database.\n",
    "url = \"%s/concept/rename\" % (observation_url)\n",
    "r = put(url, data = {\n",
    "    \"old\": \"Teuthoidea\",\n",
    "    \"new\": \"Grimpoteuthis\"})\n",
    "show(\"PUT: \" + url, r)"
   ]
  },
  {
   "cell_type": "markdown",
   "metadata": {
    "collapsed": true
   },
   "source": [
    "### Delete"
   ]
  },
  {
   "cell_type": "code",
   "execution_count": null,
   "metadata": {
    "collapsed": false
   },
   "outputs": [],
   "source": [
    "# Note that if an imaged moment only contains the observation you are deleting\n",
    "# the imaged_moment will be deleted to.\n",
    "delete_url = \"%s/%s\" % (observation_url, annotation['observation_uuid'])\n",
    "delete(delete_url)"
   ]
  },
  {
   "cell_type": "markdown",
   "metadata": {
    "collapsed": true
   },
   "source": [
    "## ImageReference API\n",
    "\n",
    "ImageReference is a pointer to an actual image. In general, you use the Image API to create and update them. You will need to use the ImageReference API to delete them though\n",
    "\n",
    "### Update"
   ]
  },
  {
   "cell_type": "code",
   "execution_count": null,
   "metadata": {
    "collapsed": false
   },
   "outputs": [],
   "source": [
    "# As before we show all params you can change. But you only have to provide the ones you \n",
    "# are actually changing\n",
    "url = \"%s/%s\" % (image_reference_url, image['image_reference_uuid'])\n",
    "image_reference = put(url, data = {\n",
    "    \"url\": \"http://foobar.org/vaderimage_\" + str(random.randint(0, 100000)) + \".webp\",\n",
    "    \"format\": \"image/webp\",\n",
    "    \"width_pixels\": 5000,\n",
    "    \"height_pixels\": 3000,\n",
    "    \"description\": \"Tripod-mounted camera image\",\n",
    "    \"imaged_moment_uuid\": annotation['imaged_moment_uuid']\n",
    "    })\n",
    "show(\"PUT: \" + url, image_reference)"
   ]
  },
  {
   "cell_type": "markdown",
   "metadata": {},
   "source": [
    "### Find"
   ]
  },
  {
   "cell_type": "code",
   "execution_count": null,
   "metadata": {
    "collapsed": false
   },
   "outputs": [],
   "source": [
    "url = \"%s/%s\" % (image_reference_url, image_reference['uuid'])\n",
    "image_reference = get(url)\n",
    "show(\"GET: \" + url, image_reference)\n"
   ]
  },
  {
   "cell_type": "markdown",
   "metadata": {},
   "source": [
    "### Delete"
   ]
  },
  {
   "cell_type": "code",
   "execution_count": null,
   "metadata": {
    "collapsed": false
   },
   "outputs": [],
   "source": [
    "url = \"%s/%s\" % (image_reference_url, image_reference['uuid'])\n",
    "delete(url)"
   ]
  },
  {
   "cell_type": "code",
   "execution_count": null,
   "metadata": {
    "collapsed": true
   },
   "outputs": [],
   "source": []
  }
 ],
 "metadata": {
  "anaconda-cloud": {},
  "kernelspec": {
   "display_name": "Python 3",
   "language": "python",
   "name": "python3"
  },
  "language_info": {
   "codemirror_mode": {
    "name": "ipython",
    "version": 3
   },
   "file_extension": ".py",
   "mimetype": "text/x-python",
   "name": "python",
   "nbconvert_exporter": "python",
   "pygments_lexer": "ipython3",
   "version": "3.6.0"
  }
 },
 "nbformat": 4,
 "nbformat_minor": 1
}
