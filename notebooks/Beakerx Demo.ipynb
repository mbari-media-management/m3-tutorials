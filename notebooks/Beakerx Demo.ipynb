{
 "cells": [
  {
   "cell_type": "code",
   "execution_count": 2,
   "metadata": {},
   "outputs": [
    {
     "data": {
      "application/vnd.jupyter.widget-view+json": {
       "model_id": "3e54d782-05a2-484a-ab16-c3ec38d4c26b",
       "version_major": 2,
       "version_minor": 0
      },
      "method": "display_data"
     },
     "metadata": {},
     "output_type": "display_data"
    }
   ],
   "source": [
    "val plot = new Plot()\n",
    "val y1 = Seq(1.5, 1, 6, 5, 2, 8)\n",
    "val cs = Seq(Color.black, Color.red, Color.gray, Color.blue, Color.pink)\n",
    "val ss = Seq(StrokeType.SOLID, StrokeType.SOLID, StrokeType.DASH, StrokeType.DOT, StrokeType.DASHDOT)\n",
    "plot.add(new Stems {\n",
    "    y = y1\n",
    "    color = cs\n",
    "    style = ss\n",
    "    width = 5\n",
    "})\n"
   ]
  },
  {
   "cell_type": "code",
   "execution_count": 3,
   "metadata": {},
   "outputs": [
    {
     "name": "stdout",
     "output_type": "stream",
     "text": [
      "Available magic commands:\n",
      "%%javascript \n",
      "%%js \n",
      "%%html \n",
      "%%HTML \n",
      "%%bash \n",
      "%lsmagic \n",
      "%classpath add jar <jar path>\n",
      "%classpath add mvn <group name version>\n",
      "%%classpath add mvn <group name version>\n",
      "%classpath add dynamic \n",
      "%classpath config resolver <repoName repoUrl>\n",
      "%classpath reset \n",
      "%classpath \n",
      "%import static <classpath>\n",
      "%import <classpath>\n",
      "%unimport <classpath>\n",
      "%time \n",
      "%%time \n",
      "%timeit \n",
      "%%timeit \n",
      "%load_magic \n",
      "%%kernel \n",
      "%%python \n",
      "%%clojure \n",
      "%%groovy \n",
      "%%java \n",
      "%%kotlin \n",
      "%%scala \n",
      "%%sql \n",
      "%%spark <>\n"
     ]
    }
   ],
   "source": [
    "%lsmagic"
   ]
  },
  {
   "cell_type": "code",
   "execution_count": null,
   "metadata": {},
   "outputs": [],
   "source": []
  }
 ],
 "metadata": {
  "kernelspec": {
   "display_name": "Scala",
   "language": "scala",
   "name": "scala"
  },
  "language_info": {
   "codemirror_mode": "text/x-scala",
   "file_extension": ".scala",
   "mimetype": "",
   "name": "Scala",
   "nbconverter_exporter": "",
   "version": "2.11.12"
  }
 },
 "nbformat": 4,
 "nbformat_minor": 2
}
