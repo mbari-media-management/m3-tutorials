{
 "cells": [
  {
   "cell_type": "markdown",
   "metadata": {},
   "source": [
    "# Basic Tutorial\n",
    "\n",
    "This python3 notebook demonstrates the basics of using [M3's](https://github.com/mbari-media-management) video asset manager and annotation API's for your own applications. \n",
    "\n",
    "\n",
    "## Before you start\n",
    "\n",
    "### Start the microservices needed for this notebook\n",
    "\n",
    "To get started you will need to start both the [video asset manager](https://github.com/mbari-media-management/vampire-squid) and [annotation](https://github.com/mbari-media-management/annosaurus) microservices using [Docker](https://www.docker.com/). One of the easiest ways to do this is to use the [m3-microservices project](https://github.com/mbari-media-management/m3-microservices):\n",
    "\n",
    "```\n",
    "git clone https://github.com/mbari-media-management/m3-microservices.git\n",
    "cd m3-microservices\n",
    "# Edit .env as per the README\n",
    "docker-compose build\n",
    "docker-compose up\n",
    "```\n",
    "\n",
    "### Get your IP address\n",
    "\n",
    "On Mac/Linux: \n",
    "\n",
    "```\n",
    "ifconfig | grep \"inet \" | grep -Fv 127.0.0.1 | awk '{print $2}'\n",
    "```\n",
    "\n"
   ]
  },
  {
   "cell_type": "code",
   "execution_count": 1,
   "metadata": {},
   "outputs": [],
   "source": [
    "# Enter your IP address here\n",
    "ipAddress = \"192.168.1.85\""
   ]
  },
  {
   "cell_type": "markdown",
   "metadata": {},
   "source": [
    "### Set your client secrets\n",
    "\n",
    "Look in `m3-microservices/.env` for the values for:\n",
    "\n",
    "- ANNO_APP_CLIENT_SECRET\n",
    "- VAMP_APP_CLIENT_SECRET\n",
    "\n",
    "and set them below. I've already set them to the default values so if you haven't changed in the `.env` file, you can skip this step"
   ]
  },
  {
   "cell_type": "code",
   "execution_count": null,
   "metadata": {},
   "outputs": [],
   "source": [
    "annoSecret = \"foo\"\n",
    "vamSecret = \"foo\""
   ]
  },
  {
   "cell_type": "markdown",
   "metadata": {},
   "source": [
    "## Base Endpoints\n",
    "\n",
    "Using the IP address, let's build the base URLs to point to each of our services. We're using the default ports and service names that are defined in m3-microservices. You can change these to point at your production or development services and the rest of this notebook should work just fine."
   ]
  },
  {
   "cell_type": "code",
   "execution_count": 2,
   "metadata": {},
   "outputs": [],
   "source": [
    "annosaurusUrl = \"http://%s:8082/anno/v1\" %(ipAddress)\n",
    "vampireSquidUrl = \"http://%s:8084/vam/v1\" % (ipAddress)"
   ]
  },
  {
   "cell_type": "markdown",
   "metadata": {},
   "source": [
    "## Endpoints\n",
    "\n",
    "Using your IP address, we need to build the URL's to the microservices so we know where to send our REST requests."
   ]
  },
  {
   "cell_type": "code",
   "execution_count": 3,
   "metadata": {},
   "outputs": [],
   "source": [
    "# Useful annosaurus endpoints\n",
    "annotation_url = \"%s/annotations\" % (annosaurusUrl)\n",
    "image_url = \"%s/images\" % (annosaurusUrl)\n",
    "observation_url = \"%s/observations\" % (annosaurusUrl)\n",
    "association_url = \"%s/associations\" % (annosaurusUrl)\n",
    "\n",
    "# Useful vampire-squid endpoints\n",
    "media_url = \"%s/media\" % (vampireSquidUrl)\n",
    "\n"
   ]
  },
  {
   "cell_type": "markdown",
   "metadata": {},
   "source": [
    "## Helper functions\n",
    "\n",
    "We're going to create a few helper functions to:\n",
    "\n",
    "- Simplify making requests and parsing the responses to our microservices\n",
    "- Display some informative info, so we can understand what is happening"
   ]
  },
  {
   "cell_type": "code",
   "execution_count": 4,
   "metadata": {},
   "outputs": [],
   "source": [
    "import datetime\n",
    "import dateutil\n",
    "import json\n",
    "import pprint\n",
    "import random\n",
    "import requests\n",
    "import urllib\n",
    "import uuid\n",
    "\n",
    "def show(s, data = None):\n",
    "    \"Display the json response from API calls\"\n",
    "    pp = pprint.PrettyPrinter(indent=2)\n",
    "    print(\"--- \" + s)\n",
    "    if data:\n",
    "      pp.pprint(data)\n",
    "    \n",
    "def iso8601():\n",
    "    \"Standardize the date format for pretty printing\"\n",
    "    return datetime.datetime.now(datetime.timezone.utc).isoformat()[0:-6] + \"Z\"\n",
    "    \n",
    "def parse_response(r):\n",
    "    \"Parse a JSON response\"\n",
    "    try:\n",
    "       return json.loads(r.text)\n",
    "    except:\n",
    "        s = \"URL: %s\\n%s (%s): %s\" % (r.request.url, r.status_code, r.reason, r.text)\n",
    "        print(s)\n",
    "        return {}\n",
    "    \n",
    "# --- Some helper functions that display the web traffic\n",
    "#     Useful for demo\n",
    "def pretty_print(pr):\n",
    "    print('{}\\n{}\\n{}\\n\\n{}'.format(\n",
    "        '-----------START-----------',\n",
    "        pr.method + ' ' + pr.url,\n",
    "        '\\n'.join('{}: {}'.format(k, v) for k, v in pr.headers.items()),\n",
    "        pr.body,\n",
    "    ))\n",
    "    \n",
    "def send(pr):\n",
    "    pretty_print(pr)\n",
    "    s = requests.Session()\n",
    "    return s.send(pr)\n",
    "     \n",
    "def pretty_delete(url):\n",
    "    r = requests.Request('DELETE', url)\n",
    "    pr = r.prepare()\n",
    "    return parse_response(send(pr))\n",
    "\n",
    "def pretty_get(url):\n",
    "    r = requests.Request('GET', url)\n",
    "    pr = r.prepare()\n",
    "    return parse_response(send(pr))\n",
    "\n",
    "def pretty_post(url, data = {}):\n",
    "    r = requests.Request('POST', url, data = data)\n",
    "    pr = r.prepare()\n",
    "    return parse_response(send(pr))\n",
    "\n",
    "def pretty_put(url, data = {}):\n",
    "    r = requests.Request('PUT', url, data = data)\n",
    "    pr = r.prepare()\n",
    "    return parse_response(send(pr))\n",
    "    \n",
    "    \n",
    "# --- Basic REST calls, you'd probably use these in your own \n",
    "#     applications instead of the pretty-fied versions above. \n",
    "def delete(url):\n",
    "    return parse_response(requests.delete(url))\n",
    "\n",
    "def get(url):\n",
    "    return parse_response(requests.get(url))\n",
    "    \n",
    "def post(url, data = {}):\n",
    "    return parse_response(requests.post(url, data))\n",
    "\n",
    "def put(url, data = {}):\n",
    "    return parse_response(requests.put(url, data))"
   ]
  },
  {
   "cell_type": "markdown",
   "metadata": {},
   "source": [
    "## Typical Usage"
   ]
  },
  {
   "cell_type": "markdown",
   "metadata": {},
   "source": [
    "### Authentication\n",
    "\n",
    "For GET reguests, where you are just retrieving information. You don't need to worry about authentication. For POST, PUT, and DELETE requests, which modify the database, you will be using authentication. (NOTE that you can disable authentication usage if you really, really like to live on the scary edge and don't value your data)\n",
    "\n",
    "The APIs are configured to use JWT authentication. You submit a POST request using your API secret\n"
   ]
  },
  {
   "cell_type": "markdown",
   "metadata": {},
   "source": [
    "## Typical Usage\n",
    "\n",
    "We'll walk through a typical usage for an annotations application.\n",
    "\n",
    "### Look up a movie of interest\n",
    "\n",
    "In order to do this, we first need to register one in [vampire-squid](https://github.com/mbari-media-management/vampire-squid). We'll use the simplest possible call and pass the least amount of information required to register our movie. Here's the minimum info:\n",
    "\n",
    "- __video_sequence_name__: At MBARI, this name represents all videos from a single ROV dive. We format it as `ROV_name dive_number`. For example: `Doc Ricketts 0952` or `Ventana 2345`. It can be anything that makes sense to you.\n",
    "- __camera_id__: This is the identifier for the _thing_ that collected the video. We use the ROV name, or AUV name, or some other unique id to tag what collected the video.\n",
    "- __video_name__: A single section of video form a dive, may have several representations. A _big_ relatively uncompressed __master__, a slightly more managebly sized __mezzanine__, and one or more highly compressed __proxies__. This name is the catch-all for all versions of the same video. I've been using `rov_name dive_number start_timestamp` as my representation as it's really easy to automate (e.g. `Ventana 3456 20171112T012345Z`), but again, use what makes sense to you.\n",
    "- __uri__: This is typically the URL to your movie. Your movie really should be served off of a web server. If you don't have one, I have a docker container that can do it for you.\n",
    "- __start_timestamp__: This is the moment when the first frame in the video was recorded. Usually, you can extract this from the movies metadata atoms. That is, if you remembered to correctly sync the clock on your movie recorder.\n",
    "- __duration_millis__: This is actually an optional parameter, but it makes your life sooooo much easier if it's included when you register a video. This is the length (duration) of the movie in milliseconds."
   ]
  },
  {
   "cell_type": "code",
   "execution_count": 5,
   "metadata": {},
   "outputs": [
    {
     "name": "stdout",
     "output_type": "stream",
     "text": [
      "URL: http://192.168.1.85:8084/vam/v1/media\n",
      "401 (Unauthorized): The request did not include valid authorization credentials\n"
     ]
    },
    {
     "ename": "KeyError",
     "evalue": "'video_sequence_name'",
     "output_type": "error",
     "traceback": [
      "\u001b[0;31m---------------------------------------------------------------------------\u001b[0m",
      "\u001b[0;31mKeyError\u001b[0m                                  Traceback (most recent call last)",
      "\u001b[0;32m<ipython-input-5-d409513963c9>\u001b[0m in \u001b[0;36m<module>\u001b[0;34m()\u001b[0m\n\u001b[1;32m     10\u001b[0m \u001b[0;31m# Look up a video. Actually, we're looking up all videos in this\u001b[0m\u001b[0;34m\u001b[0m\u001b[0;34m\u001b[0m\u001b[0m\n\u001b[1;32m     11\u001b[0m \u001b[0;31m# video sequence\u001b[0m\u001b[0;34m\u001b[0m\u001b[0;34m\u001b[0m\u001b[0m\n\u001b[0;32m---> 12\u001b[0;31m \u001b[0murl\u001b[0m \u001b[0;34m=\u001b[0m \u001b[0mmedia_url\u001b[0m \u001b[0;34m+\u001b[0m \u001b[0;34m\"/videosequence/\"\u001b[0m \u001b[0;34m+\u001b[0m \u001b[0mmy_media\u001b[0m\u001b[0;34m[\u001b[0m\u001b[0;34m'video_sequence_name'\u001b[0m\u001b[0;34m]\u001b[0m\u001b[0;34m\u001b[0m\u001b[0m\n\u001b[0m\u001b[1;32m     13\u001b[0m \u001b[0mmy_media\u001b[0m \u001b[0;34m=\u001b[0m \u001b[0mpretty_get\u001b[0m\u001b[0;34m(\u001b[0m\u001b[0murl\u001b[0m\u001b[0;34m)\u001b[0m\u001b[0;34m[\u001b[0m\u001b[0;36m0\u001b[0m\u001b[0;34m]\u001b[0m\u001b[0;34m\u001b[0m\u001b[0m\n",
      "\u001b[0;31mKeyError\u001b[0m: 'video_sequence_name'"
     ]
    }
   ],
   "source": [
    "# Register a video \n",
    "my_media = post(media_url, \n",
    "               data = {\"video_sequence_name\": \"Ventana 0952\",\n",
    "                      \"camera_id\": \"Ventana\", \n",
    "                      \"video_name\": \"Ventana 0952 - 1 of 8\",\n",
    "                      \"uri\": \"http://totally.fake.org/Ventana_20171118T202801Z_master.mp4\",\n",
    "                      \"start_timestamp\": \"2017-11-18T20:28:01.003Z\",\n",
    "                      \"duration_millis\": 123456})\n",
    "\n",
    "# Look up a video. Actually, we're looking up all videos in this \n",
    "# video sequence\n",
    "url = media_url + \"/videosequence/\" + my_media['video_sequence_name']\n",
    "my_media = pretty_get(url)[0]"
   ]
  },
  {
   "cell_type": "markdown",
   "metadata": {},
   "source": [
    "## Video Reference UUID\n",
    "\n",
    "The `video_reference_uuid` is a key we need to create annotations. This tells our annotation system which video an annotation belongs. And when I say _video_ I mean the video attached to a specfic URL. Our video asset manager uses the following terminology:\n",
    "\n",
    "- __video_sequence__: This is a grouping of related videos from a deployment of a camera. At MBARI, we chop up dives into 15 minute segments to make each file somewhat managemable in size. So for a single 8 hour dive we would have at least 32 video files grouped into a single _video_sequence_\n",
    "- __video__: This is a single segment of a video_sequence. e.g. One 15 minute segment. It encapsulates 2 important things: a video_name and the start_timestamp. Note that a video may have multiple representations (i.e. master, mezzanine, and proxies). \n",
    "- __video_reference__: Each _video_ may actually represent several files. (Again ... master, mezzanine, proxies). A video_reference is a pointer to one of those files. \n",
    "\n",
    "## Create Your First Annotation\n",
    "\n",
    "Again, we'll keep this very simple. Here's the minimum fields you need to provide:\n",
    "\n",
    "- __video_reference_uuid__: You get this from your video asset manager. It's an id for the video that the annotation belongs too.\n",
    "- __concept__: This is basically whatever it is you're annotating. Fish, rock, Grimpoteuthis, whatever.\n",
    "- __observer__: Who made the annotation. This could be a full name, email, login id, whatever you deem appropriate for your application.\n",
    "- __elapsed_time_millis__: This is the elapsed time from the start of the movie when the annotation occurred. Your video player should be able to give you this information. Note: some applications won't have elapsed_time available. For example, video tapes ... you can use __timecode__ (e.g. `01:23:45:01`) instead. Or real-time annotations, in which case you can use `recorded_timestamp` (e.g. `2017-11-09T01:23:45.01.123Z`). Note, if you have the correct `start_timestamp` (from your media you retrieved above) and `elapsed_time_millis` from your video player, you can calculate the `recorded_timestamp` and include that too. It makes your data _MUCH_ more useful!!"
   ]
  },
  {
   "cell_type": "code",
   "execution_count": null,
   "metadata": {},
   "outputs": [],
   "source": [
    "# Index into movie when annotation occurs\n",
    "elapsed_time_millis = 2000\n",
    "\n",
    "# We can calculate the recorded_timestamp from the start_timestamp\n",
    "# in my_media and elased_time_millis\n",
    "import dateutil\n",
    "starttime = dateutil.parser.parse(my_media['start_timestamp'])\n",
    "recordedtime = starttime + datetime.timedelta(milliseconds=elapsed_time_millis)\n",
    "\n",
    "\n",
    "annotation = pretty_post(annotation_url,\n",
    "                 data = {\"video_reference_uuid\": my_movie['video_reference_uuid'],\n",
    "                        \"concept\": \"Aegina citrea\", \n",
    "                        \"observer\", \"Brian Schlining\",\n",
    "                        \"elapsed_time_millis\": \"2000\",\n",
    "                        \"recorded_timestamp\": recordedtime.isoformat()})"
   ]
  },
  {
   "cell_type": "code",
   "execution_count": null,
   "metadata": {},
   "outputs": [],
   "source": [
    "import dateutil\n",
    "d = dateutil.parser.parse('2008-09-03T20:56:35.450686Z')\n",
    "d.isoformat()"
   ]
  },
  {
   "cell_type": "code",
   "execution_count": null,
   "metadata": {},
   "outputs": [],
   "source": []
  },
  {
   "cell_type": "code",
   "execution_count": null,
   "metadata": {},
   "outputs": [],
   "source": []
  }
 ],
 "metadata": {
  "kernelspec": {
   "display_name": "Python 3",
   "language": "python",
   "name": "python3"
  },
  "language_info": {
   "codemirror_mode": {
    "name": "ipython",
    "version": 3
   },
   "file_extension": ".py",
   "mimetype": "text/x-python",
   "name": "python",
   "nbconvert_exporter": "python",
   "pygments_lexer": "ipython3",
   "version": "3.6.5"
  }
 },
 "nbformat": 4,
 "nbformat_minor": 2
}
