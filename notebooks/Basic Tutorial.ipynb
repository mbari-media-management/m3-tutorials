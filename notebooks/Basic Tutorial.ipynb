{
 "cells": [
  {
   "cell_type": "markdown",
   "metadata": {},
   "source": [
    "# Basic Tutorial\n",
    "\n",
    "This python3 notebook demonstrates the basics of using [M3's](https://github.com/mbari-media-management) video asset manager and annotation API's for your own applications. \n",
    "\n",
    "\n",
    "## Before you start\n",
    "\n",
    "### Start the microservices needed for this notebook\n",
    "\n",
    "To get started you will need to start both the [video asset manager](https://github.com/mbari-media-management/vampire-squid) and [annotation](https://github.com/mbari-media-management/annosaurus) microservices using [Docker](https://www.docker.com/):\n",
    "\n",
    "```\n",
    "docker run --name=anno -p 8080:8080 mbari/annosaurus\n",
    "docker run --name=vam -p 8081:8080 mbari/vampire-squid\n",
    "```\n",
    "\n",
    "### Get your IP address\n",
    "\n",
    "On Mac/Linux: \n",
    "\n",
    "```\n",
    "ifconfig | grep \"inet \" | grep -Fv 127.0.0.1 | awk '{print $2}'\n",
    "```\n",
    "\n"
   ]
  },
  {
   "cell_type": "code",
   "execution_count": 4,
   "metadata": {},
   "outputs": [],
   "source": [
    "# Enter your IP address here\n",
    "ipAddress = \"10.0.1.251\"\n"
   ]
  },
  {
   "cell_type": "markdown",
   "metadata": {},
   "source": [
    "## Endpoints\n",
    "\n",
    "Using your IP address, we need to build the URL's to the microservices so we know where to send our REST requests."
   ]
  },
  {
   "cell_type": "code",
   "execution_count": 5,
   "metadata": {},
   "outputs": [],
   "source": [
    "# Useful annosaurus endpoints\n",
    "annotation_url = \"%s:8080/v1/annotations\" % (ipAddress)\n",
    "image_url = \"%s:8080/v1/images\" % (ipAddress)\n",
    "observation_url = \"%s:8080/v1/observations\" % (ipAddress)\n",
    "association_url = \"%s:8080/v1/associations\" % (ipAddress)\n",
    "\n",
    "# Useful vampire-squid endpoints\n",
    "media_url = \"%s:8081/v1/media\" % (ipAddress)\n",
    "\n"
   ]
  },
  {
   "cell_type": "markdown",
   "metadata": {},
   "source": [
    "## Helper functions\n",
    "\n",
    "We're going to create a few helper functions to:\n",
    "\n",
    "- Simplify making requests and parsing the responses to our microservices\n",
    "- Display some informative info, so we can understand what is happening"
   ]
  },
  {
   "cell_type": "code",
   "execution_count": 6,
   "metadata": {},
   "outputs": [],
   "source": [
    "import datetime\n",
    "import json\n",
    "import pprint\n",
    "import random\n",
    "import requests\n",
    "import urllib\n",
    "import uuid\n",
    "\n",
    "def show(s, data = None):\n",
    "    \"Display the json response from API calls\"\n",
    "    pp = pprint.PrettyPrinter(indent=2)\n",
    "    print(\"--- \" + s)\n",
    "    if data:\n",
    "      pp.pprint(data)\n",
    "    \n",
    "def iso8601():\n",
    "    \"Standardize the date format for pretty printing\"\n",
    "    return datetime.datetime.now(datetime.timezone.utc).isoformat()[0:-6] + \"Z\"\n",
    "    \n",
    "def parse_response(r):\n",
    "    \"Parse a JSON response\"\n",
    "    try:\n",
    "       return json.loads(r.text)\n",
    "    except:\n",
    "        s = \"URL: %s\\n%s (%s): %s\" % (r.request.url, r.status_code, r.reason, r.text)\n",
    "        print(s)\n",
    "        return {}\n",
    "    \n",
    "# --- Some helper functions that display the web traffic\n",
    "#     Useful for demo\n",
    "def pretty_print(pr):\n",
    "    print('{}\\n{}\\n{}\\n\\n{}'.format(\n",
    "        '-----------START-----------',\n",
    "        pr.method + ' ' + pr.url,\n",
    "        '\\n'.join('{}: {}'.format(k, v) for k, v in pr.headers.items()),\n",
    "        pr.body,\n",
    "    ))\n",
    "    \n",
    "def send(pr):\n",
    "    pretty_print(pr)\n",
    "    s = requests.Session()\n",
    "    return s.send(pr)\n",
    "     \n",
    "def pretty_delete(url):\n",
    "    r = requests.Request('DELETE', url)\n",
    "    pr = r.prepare()\n",
    "    return parse_response(send(pr))\n",
    "\n",
    "def pretty_get(url):\n",
    "    r = requests.Request('GET', url)\n",
    "    pr = r.prepare()\n",
    "    return parse_response(send(pr))\n",
    "\n",
    "def pretty_post(url, data = {}):\n",
    "    r = requests.Request('POST', url, data = data)\n",
    "    pr = r.prepare()\n",
    "    return parse_response(send(pr))\n",
    "\n",
    "def pretty_put(url, data = {}):\n",
    "    r = requests.Request('PUT', url, data = data)\n",
    "    pr = r.prepare()\n",
    "    return parse_response(send(pr))\n",
    "    \n",
    "    \n",
    "# --- Basic REST calls, you'd probably use these in your own \n",
    "#     applications instead of the pretty-fied versions above. \n",
    "def delete(url):\n",
    "    return parse_response(requests.delete(url))\n",
    "\n",
    "def get(url):\n",
    "    return parse_response(requests.get(url))\n",
    "    \n",
    "def post(url, data = {}):\n",
    "    return parse_response(requests.post(url, data))\n",
    "\n",
    "def put(url, data = {}):\n",
    "    return parse_response(requests.put(url, data))"
   ]
  },
  {
   "cell_type": "markdown",
   "metadata": {},
   "source": [
    "## Typical Usage\n",
    "\n",
    "We'll walk through a typical usage for an annotations application.\n",
    "\n",
    "### Look up a movie of interest\n",
    "\n",
    "In order to do this, we first need to register one in [vampire-squid](https://github.com/mbari-media-management/vampire-squid). We'll use the simplest possible call and pass the least amount of information required to register our movie. Here's the minimum info:\n",
    "\n",
    "- __video_sequence_name__: At MBARI, this name represents all videos from a single ROV dive. We format it as `ROV_name dive_number`. For example: `Doc Ricketts 0952` or `Ventana 2345`. It can be anything that makes sense to you.\n",
    "- __camera_id__: This is the identifier for the _thing_ that collected the video. We use the ROV name, or AUV name, or some other unique id to tag what collected the video.\n",
    "- __video_name__: A single section of video form a dive, may have several representations. A _big_ relatively uncompressed __master__, a slightly more managebly sized __mezzanine__, and one or more highly compressed __proxies__. This name is the catch-all for all versions of the same video. I've been using `rov_name dive_number start_timestamp` as my representation as it's really easy to automate (e.g. `Ventana 3456 20171112T012345Z`), but again, use what makes sense to you.\n",
    "- __uri__: This is typically the URL to your movie. Your movie really should be served off of a web server. If you don't have one, I have a docker container that can do it for you.\n",
    "- __start_timestamp__: This is the moment when the first frame in the video was recorded. Usually, you can extract this from the movies metadata atoms. That is, if you remembered to correctly sync the clock on your movie recorder.\n",
    "- __duration_millis__: This is actually an optional parameter, but it makes your life sooooo much easier if it's included when you register a video. This is the length (duration) of the movie in milliseconds."
   ]
  },
  {
   "cell_type": "code",
   "execution_count": 8,
   "metadata": {},
   "outputs": [
    {
     "ename": "InvalidSchema",
     "evalue": "No connection adapters were found for '10.0.1.251:8081/v1/media'",
     "output_type": "error",
     "traceback": [
      "\u001b[0;31m---------------------------------------------------------------------------\u001b[0m",
      "\u001b[0;31mInvalidSchema\u001b[0m                             Traceback (most recent call last)",
      "\u001b[0;32m<ipython-input-8-cd698b400a59>\u001b[0m in \u001b[0;36m<module>\u001b[0;34m()\u001b[0m\n\u001b[1;32m      6\u001b[0m                       \u001b[0;34m\"uri\"\u001b[0m\u001b[0;34m:\u001b[0m \u001b[0;34m\"http://totally.fake.org/mymovie.mp4\"\u001b[0m\u001b[0;34m,\u001b[0m\u001b[0;34m\u001b[0m\u001b[0m\n\u001b[1;32m      7\u001b[0m                       \u001b[0;34m\"start_timestamp\"\u001b[0m\u001b[0;34m:\u001b[0m \u001b[0;34m\"2017-11-18T20:28:01.003Z\"\u001b[0m\u001b[0;34m,\u001b[0m\u001b[0;34m\u001b[0m\u001b[0m\n\u001b[0;32m----> 8\u001b[0;31m                       \"duration_millis\": 123456})\n\u001b[0m\u001b[1;32m      9\u001b[0m \u001b[0;34m\u001b[0m\u001b[0m\n\u001b[1;32m     10\u001b[0m \u001b[0;31m# Look up a video. Actually, we're looking up all videos in this\u001b[0m\u001b[0;34m\u001b[0m\u001b[0;34m\u001b[0m\u001b[0m\n",
      "\u001b[0;32m<ipython-input-6-5fb76bd0fdd0>\u001b[0m in \u001b[0;36mpost\u001b[0;34m(url, data)\u001b[0m\n\u001b[1;32m     35\u001b[0m \u001b[0;34m\u001b[0m\u001b[0m\n\u001b[1;32m     36\u001b[0m \u001b[0;32mdef\u001b[0m \u001b[0mpost\u001b[0m\u001b[0;34m(\u001b[0m\u001b[0murl\u001b[0m\u001b[0;34m,\u001b[0m \u001b[0mdata\u001b[0m \u001b[0;34m=\u001b[0m \u001b[0;34m{\u001b[0m\u001b[0;34m}\u001b[0m\u001b[0;34m)\u001b[0m\u001b[0;34m:\u001b[0m\u001b[0;34m\u001b[0m\u001b[0m\n\u001b[0;32m---> 37\u001b[0;31m     \u001b[0;32mreturn\u001b[0m \u001b[0mparse_response\u001b[0m\u001b[0;34m(\u001b[0m\u001b[0mrequests\u001b[0m\u001b[0;34m.\u001b[0m\u001b[0mpost\u001b[0m\u001b[0;34m(\u001b[0m\u001b[0murl\u001b[0m\u001b[0;34m,\u001b[0m \u001b[0mdata\u001b[0m\u001b[0;34m)\u001b[0m\u001b[0;34m)\u001b[0m\u001b[0;34m\u001b[0m\u001b[0m\n\u001b[0m\u001b[1;32m     38\u001b[0m \u001b[0;34m\u001b[0m\u001b[0m\n\u001b[1;32m     39\u001b[0m \u001b[0;32mdef\u001b[0m \u001b[0mput\u001b[0m\u001b[0;34m(\u001b[0m\u001b[0murl\u001b[0m\u001b[0;34m,\u001b[0m \u001b[0mdata\u001b[0m \u001b[0;34m=\u001b[0m \u001b[0;34m{\u001b[0m\u001b[0;34m}\u001b[0m\u001b[0;34m)\u001b[0m\u001b[0;34m:\u001b[0m\u001b[0;34m\u001b[0m\u001b[0m\n",
      "\u001b[0;32m/opt/conda/lib/python3.6/site-packages/requests/api.py\u001b[0m in \u001b[0;36mpost\u001b[0;34m(url, data, json, **kwargs)\u001b[0m\n\u001b[1;32m    110\u001b[0m     \"\"\"\n\u001b[1;32m    111\u001b[0m \u001b[0;34m\u001b[0m\u001b[0m\n\u001b[0;32m--> 112\u001b[0;31m     \u001b[0;32mreturn\u001b[0m \u001b[0mrequest\u001b[0m\u001b[0;34m(\u001b[0m\u001b[0;34m'post'\u001b[0m\u001b[0;34m,\u001b[0m \u001b[0murl\u001b[0m\u001b[0;34m,\u001b[0m \u001b[0mdata\u001b[0m\u001b[0;34m=\u001b[0m\u001b[0mdata\u001b[0m\u001b[0;34m,\u001b[0m \u001b[0mjson\u001b[0m\u001b[0;34m=\u001b[0m\u001b[0mjson\u001b[0m\u001b[0;34m,\u001b[0m \u001b[0;34m**\u001b[0m\u001b[0mkwargs\u001b[0m\u001b[0;34m)\u001b[0m\u001b[0;34m\u001b[0m\u001b[0m\n\u001b[0m\u001b[1;32m    113\u001b[0m \u001b[0;34m\u001b[0m\u001b[0m\n\u001b[1;32m    114\u001b[0m \u001b[0;34m\u001b[0m\u001b[0m\n",
      "\u001b[0;32m/opt/conda/lib/python3.6/site-packages/requests/api.py\u001b[0m in \u001b[0;36mrequest\u001b[0;34m(method, url, **kwargs)\u001b[0m\n\u001b[1;32m     56\u001b[0m     \u001b[0;31m# cases, and look like a memory leak in others.\u001b[0m\u001b[0;34m\u001b[0m\u001b[0;34m\u001b[0m\u001b[0m\n\u001b[1;32m     57\u001b[0m     \u001b[0;32mwith\u001b[0m \u001b[0msessions\u001b[0m\u001b[0;34m.\u001b[0m\u001b[0mSession\u001b[0m\u001b[0;34m(\u001b[0m\u001b[0;34m)\u001b[0m \u001b[0;32mas\u001b[0m \u001b[0msession\u001b[0m\u001b[0;34m:\u001b[0m\u001b[0;34m\u001b[0m\u001b[0m\n\u001b[0;32m---> 58\u001b[0;31m         \u001b[0;32mreturn\u001b[0m \u001b[0msession\u001b[0m\u001b[0;34m.\u001b[0m\u001b[0mrequest\u001b[0m\u001b[0;34m(\u001b[0m\u001b[0mmethod\u001b[0m\u001b[0;34m=\u001b[0m\u001b[0mmethod\u001b[0m\u001b[0;34m,\u001b[0m \u001b[0murl\u001b[0m\u001b[0;34m=\u001b[0m\u001b[0murl\u001b[0m\u001b[0;34m,\u001b[0m \u001b[0;34m**\u001b[0m\u001b[0mkwargs\u001b[0m\u001b[0;34m)\u001b[0m\u001b[0;34m\u001b[0m\u001b[0m\n\u001b[0m\u001b[1;32m     59\u001b[0m \u001b[0;34m\u001b[0m\u001b[0m\n\u001b[1;32m     60\u001b[0m \u001b[0;34m\u001b[0m\u001b[0m\n",
      "\u001b[0;32m/opt/conda/lib/python3.6/site-packages/requests/sessions.py\u001b[0m in \u001b[0;36mrequest\u001b[0;34m(self, method, url, params, data, headers, cookies, files, auth, timeout, allow_redirects, proxies, hooks, stream, verify, cert, json)\u001b[0m\n\u001b[1;32m    506\u001b[0m         }\n\u001b[1;32m    507\u001b[0m         \u001b[0msend_kwargs\u001b[0m\u001b[0;34m.\u001b[0m\u001b[0mupdate\u001b[0m\u001b[0;34m(\u001b[0m\u001b[0msettings\u001b[0m\u001b[0;34m)\u001b[0m\u001b[0;34m\u001b[0m\u001b[0m\n\u001b[0;32m--> 508\u001b[0;31m         \u001b[0mresp\u001b[0m \u001b[0;34m=\u001b[0m \u001b[0mself\u001b[0m\u001b[0;34m.\u001b[0m\u001b[0msend\u001b[0m\u001b[0;34m(\u001b[0m\u001b[0mprep\u001b[0m\u001b[0;34m,\u001b[0m \u001b[0;34m**\u001b[0m\u001b[0msend_kwargs\u001b[0m\u001b[0;34m)\u001b[0m\u001b[0;34m\u001b[0m\u001b[0m\n\u001b[0m\u001b[1;32m    509\u001b[0m \u001b[0;34m\u001b[0m\u001b[0m\n\u001b[1;32m    510\u001b[0m         \u001b[0;32mreturn\u001b[0m \u001b[0mresp\u001b[0m\u001b[0;34m\u001b[0m\u001b[0m\n",
      "\u001b[0;32m/opt/conda/lib/python3.6/site-packages/requests/sessions.py\u001b[0m in \u001b[0;36msend\u001b[0;34m(self, request, **kwargs)\u001b[0m\n\u001b[1;32m    610\u001b[0m \u001b[0;34m\u001b[0m\u001b[0m\n\u001b[1;32m    611\u001b[0m         \u001b[0;31m# Get the appropriate adapter to use\u001b[0m\u001b[0;34m\u001b[0m\u001b[0;34m\u001b[0m\u001b[0m\n\u001b[0;32m--> 612\u001b[0;31m         \u001b[0madapter\u001b[0m \u001b[0;34m=\u001b[0m \u001b[0mself\u001b[0m\u001b[0;34m.\u001b[0m\u001b[0mget_adapter\u001b[0m\u001b[0;34m(\u001b[0m\u001b[0murl\u001b[0m\u001b[0;34m=\u001b[0m\u001b[0mrequest\u001b[0m\u001b[0;34m.\u001b[0m\u001b[0murl\u001b[0m\u001b[0;34m)\u001b[0m\u001b[0;34m\u001b[0m\u001b[0m\n\u001b[0m\u001b[1;32m    613\u001b[0m \u001b[0;34m\u001b[0m\u001b[0m\n\u001b[1;32m    614\u001b[0m         \u001b[0;31m# Start time (approximately) of the request\u001b[0m\u001b[0;34m\u001b[0m\u001b[0;34m\u001b[0m\u001b[0m\n",
      "\u001b[0;32m/opt/conda/lib/python3.6/site-packages/requests/sessions.py\u001b[0m in \u001b[0;36mget_adapter\u001b[0;34m(self, url)\u001b[0m\n\u001b[1;32m    701\u001b[0m \u001b[0;34m\u001b[0m\u001b[0m\n\u001b[1;32m    702\u001b[0m         \u001b[0;31m# Nothing matches :-/\u001b[0m\u001b[0;34m\u001b[0m\u001b[0;34m\u001b[0m\u001b[0m\n\u001b[0;32m--> 703\u001b[0;31m         \u001b[0;32mraise\u001b[0m \u001b[0mInvalidSchema\u001b[0m\u001b[0;34m(\u001b[0m\u001b[0;34m\"No connection adapters were found for '%s'\"\u001b[0m \u001b[0;34m%\u001b[0m \u001b[0murl\u001b[0m\u001b[0;34m)\u001b[0m\u001b[0;34m\u001b[0m\u001b[0m\n\u001b[0m\u001b[1;32m    704\u001b[0m \u001b[0;34m\u001b[0m\u001b[0m\n\u001b[1;32m    705\u001b[0m     \u001b[0;32mdef\u001b[0m \u001b[0mclose\u001b[0m\u001b[0;34m(\u001b[0m\u001b[0mself\u001b[0m\u001b[0;34m)\u001b[0m\u001b[0;34m:\u001b[0m\u001b[0;34m\u001b[0m\u001b[0m\n",
      "\u001b[0;31mInvalidSchema\u001b[0m: No connection adapters were found for '10.0.1.251:8081/v1/media'"
     ]
    }
   ],
   "source": [
    "# Register a video \n",
    "my_media = post(media_url, \n",
    "               data = {\"video_sequence_name\": \"Doc Ricketts 0952\",\n",
    "                      \"camera_id\": \"Doc Ricketts\", \n",
    "                      \"video_name\": \"Doc Ricketts 0952 - 1 of 8\",\n",
    "                      \"uri\": \"http://totally.fake.org/mymovie.mp4\",\n",
    "                      \"start_timestamp\": \"2017-11-18T20:28:01.003Z\",\n",
    "                      \"duration_millis\": 123456})\n",
    "\n",
    "# Look up a video. Actually, we're looking up all videos in this \n",
    "# video sequence\n",
    "url = media_url + \"/videosequence/\" + my_media['video_sequence_name']\n",
    "my_movie = pretty_get(url)[0]"
   ]
  },
  {
   "cell_type": "markdown",
   "metadata": {},
   "source": [
    "## Video Reference UUID\n",
    "\n",
    "The `video_reference_uuid` is a key we need to create annotations. This tells our annotation system which video an annotation belongs. And when I say _video_ I mean the video attached to a specfic URL. Our video asset manager uses the following terminology:\n",
    "\n",
    "- __video_sequence__: This is a grouping of related videos from a deployment of a camera. At MBARI, we chop up dives into 15 minute segments to make each file somewhat managemable in size. So for a single 8 hour dive we would have at least 32 video files grouped into a single _video_sequence_\n",
    "- __video__: This is a single segment of a _video_sequence_. e.g. One 15 minute segment. It encapsulates 2 important things: a _video_name_ and the _start_timestamp_. Note that a video may have multiple representations (i.e. master, mezzanine, and proxies). \n",
    "- __video_reference__: Each _video_ may actually represent several files. (Again ... master, mezzanine, proxies). A _video_reference_ is a pointer to one of those files. \n",
    "\n",
    "## Create Your First Annotation"
   ]
  },
  {
   "cell_type": "code",
   "execution_count": null,
   "metadata": {},
   "outputs": [],
   "source": [
    "annotation = pretty_post(annotation_url,\n",
    "                 data = {\"video_reference_uuid\": my_movie['video_reference_uuid'],\n",
    "                        \"concept\": \"Aegina citrea\", \n",
    "                        \"observer\", \"Brian Schlining\",\n",
    "                        \"elapsed_time_millis\": \"2000\",\n",
    "                        \"recorded_timestamp\": \"2017-11-18T20:28:31.003Z\"})"
   ]
  }
 ],
 "metadata": {
  "kernelspec": {
   "display_name": "Python 3",
   "language": "python",
   "name": "python3"
  },
  "language_info": {
   "codemirror_mode": {
    "name": "ipython",
    "version": 3
   },
   "file_extension": ".py",
   "mimetype": "text/x-python",
   "name": "python",
   "nbconvert_exporter": "python",
   "pygments_lexer": "ipython3",
   "version": "3.6.3"
  }
 },
 "nbformat": 4,
 "nbformat_minor": 2
}
