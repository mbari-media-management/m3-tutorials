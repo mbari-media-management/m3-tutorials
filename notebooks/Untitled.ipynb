{
 "cells": [
  {
   "cell_type": "code",
   "execution_count": 2,
   "metadata": {},
   "outputs": [
    {
     "data": {
      "application/vnd.jupyter.widget-view+json": {
       "model_id": "a15ad164-5e22-49bb-8584-77facedc681e",
       "version_major": 2,
       "version_minor": 0
      },
      "method": "display_data"
     },
     "metadata": {},
     "output_type": "display_data"
    }
   ],
   "source": [
    "def c = new CombinedPlot(title: \"UsTre\", initWidth: 1000)"
   ]
  },
  {
   "cell_type": "code",
   "execution_count": 1,
   "metadata": {},
   "outputs": [
    {
     "data": {
      "application/javascript": [
       "\n",
       "var graph = beaker.graph;\n",
       "var d3 = require(['d3'], function (d3) {\n",
       "    var width = 600;\n",
       "    var height = 500;\n",
       "    var color = d3.scale.category20();\n",
       "    var force = d3.layout.force()\n",
       "      .charge(-200)\n",
       "      .linkDistance(30)\n",
       "      .size([width, height]);\n",
       "    \n",
       "})"
      ]
     },
     "execution_count": 1,
     "metadata": {},
     "output_type": "execute_result"
    }
   ],
   "source": [
    "%%javascript\n",
    "\n",
    "var graph = beaker.graph;\n",
    "var d3 = require(['d3'], function (d3) {\n",
    "    var width = 600;\n",
    "    var height = 500;\n",
    "    var color = d3.scale.category20();\n",
    "    var force = d3.layout.force()\n",
    "      .charge(-200)\n",
    "      .linkDistance(30)\n",
    "      .size([width, height]);\n",
    "    \n",
    "})"
   ]
  },
  {
   "cell_type": "code",
   "execution_count": null,
   "metadata": {},
   "outputs": [],
   "source": []
  }
 ],
 "metadata": {
  "kernelspec": {
   "display_name": "Groovy",
   "language": "groovy",
   "name": "groovy"
  },
  "language_info": {
   "codemirror_mode": "groovy",
   "file_extension": ".groovy",
   "mimetype": "",
   "name": "Groovy",
   "nbconverter_exporter": "",
   "version": "2.4.3"
  }
 },
 "nbformat": 4,
 "nbformat_minor": 2
}
