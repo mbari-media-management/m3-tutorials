{
 "cells": [
  {
   "cell_type": "markdown",
   "metadata": {},
   "source": [
    "# Mining Images\n",
    "\n",
    "__tl;dr__: This is a starting point for image mining.\n",
    "\n",
    "---\n",
    "\n",
    "## Before you start\n",
    "\n",
    "### Start the microservices needed for this notebook\n",
    "\n",
    "To get started you will need to start both the [video asset manager](https://github.com/mbari-media-management/vampire-squid) and [annotation](https://github.com/mbari-media-management/annosaurus) microservices using [Docker](https://www.docker.com/). One of the easiest ways to do this is to use the [m3-microservices project](https://github.com/mbari-media-management/m3-microservices):\n",
    "\n",
    "```\n",
    "git clone https://github.com/mbari-media-management/m3-microservices.git\n",
    "cd m3-microservices\n",
    "# Edit .env as per the README\n",
    "docker-compose build\n",
    "docker-compose up\n",
    "```\n",
    "\n",
    "### Get your IP address\n",
    "\n",
    "On Mac/Linux: \n",
    "\n",
    "```\n",
    "ifconfig | grep \"inet \" | grep -Fv 127.0.0.1 | awk '{print $2}'\n",
    "```"
   ]
  },
  {
   "cell_type": "code",
   "execution_count": 1,
   "metadata": {},
   "outputs": [],
   "source": [
    "# Enter your IP address here\n",
    "ip_address = \"134.89.113.105\""
   ]
  },
  {
   "cell_type": "markdown",
   "metadata": {},
   "source": [
    "### Set your client secrets\n",
    "\n",
    "Look in `m3-microservices/.env` for the values for:\n",
    "\n",
    "- ANNO_APP_CLIENT_SECRET\n",
    "- VAMP_APP_CLIENT_SECRET\n",
    "\n",
    "and set them below. I've already set them to the default values so if you haven't changed in the `.env` file, you can skip this step"
   ]
  },
  {
   "cell_type": "code",
   "execution_count": 2,
   "metadata": {},
   "outputs": [],
   "source": [
    "anno_secret = \"foo\"\n",
    "vam_secret = \"foo\""
   ]
  },
  {
   "cell_type": "markdown",
   "metadata": {},
   "source": [
    "---\n",
    "## Set up\n",
    "\n",
    "### Endpoints"
   ]
  },
  {
   "cell_type": "code",
   "execution_count": 3,
   "metadata": {},
   "outputs": [],
   "source": [
    "annosaurus_url = \"http://%s:8082/anno/v1\" %(ip_address)\n",
    "vampire_squid_url = \"http://%s:8084/vam/v1\" % (ip_address)\n",
    "\n",
    "# Useful annosaurus endpoints\n",
    "annotation_url = annosaurus_url + \"/annotations\"\n",
    "image_url = annosaurus_url + \"/images\"\n",
    "imaged_moments_url = annosaurus_url + \"/imagedmoments\"\n",
    "observation_url = annosaurus_url + \"/observations\"\n",
    "association_url = annosaurus_url + \"/associations\"\n",
    "data_url = annosaurus_url + \"/ancillarydata\"\n",
    "\n",
    "# Useful vampire-squid endpoints\n",
    "media_url = vampire_squid_url + \"/media\""
   ]
  },
  {
   "cell_type": "markdown",
   "metadata": {},
   "source": [
    "### Helper Functions"
   ]
  },
  {
   "cell_type": "code",
   "execution_count": 4,
   "metadata": {},
   "outputs": [],
   "source": [
    "# %load m3_rest.py\n",
    "import datetime\n",
    "import dateutil\n",
    "import json\n",
    "import pprint\n",
    "import random\n",
    "import requests\n",
    "import urllib\n",
    "import uuid\n",
    "\n",
    "def show(s, data = None):\n",
    "    \"Display the json response from API calls\"\n",
    "    pp = pprint.PrettyPrinter(indent=2)\n",
    "    print(\"--- \" + s)\n",
    "    if data:\n",
    "      pp.pprint(data)\n",
    "    \n",
    "def iso8601():\n",
    "    \"Standardize the date format for pretty printing\"\n",
    "    return datetime.datetime.now(datetime.timezone.utc).isoformat()[0:-6] + \"Z\"\n",
    "\n",
    "def auth_header(access_token):\n",
    "    \"Convience method to build JWT authorization header\"\n",
    "    return {\"Authorization\": \"Bearer \" + access_token}\n",
    "\n",
    "def pretty_dict(d, indent=0):\n",
    "    \"Pretty print a python dictionary\"\n",
    "    for key, value in d.items():\n",
    "        print('\\t' * indent + str(key))\n",
    "        if isinstance(value, dict):\n",
    "           pretty(value, indent+1)\n",
    "        else:\n",
    "           print('\\t' * (indent+1) + str(value))\n",
    "    \n",
    "def parse_response(r):\n",
    "    \"Parse a JSON response\"\n",
    "    try:\n",
    "       return json.loads(r.text)\n",
    "    except:\n",
    "        s = \"URL: %s\\n%s (%s): %s\" % (r.request.url, r.status_code, r.reason, r.text)\n",
    "        print(s)\n",
    "        return {}\n",
    "    \n",
    "# --- Some helper functions that display the web traffic\n",
    "#     Useful for demo\n",
    "def pretty_print(pr):\n",
    "    \"Pretty print an HTTP request\"\n",
    "    print('{}\\n{}\\n{}\\n\\n{}'.format(\n",
    "        '-----------REQUEST-----------',\n",
    "        pr.method + ' ' + pr.url,\n",
    "        '\\n'.join('{}: {}'.format(k, v) for k, v in pr.headers.items()),\n",
    "        pr.body,\n",
    "    ))\n",
    "    \n",
    "def send(pr):\n",
    "    pretty_print(pr)\n",
    "    s = requests.Session()\n",
    "    return s.send(pr)\n",
    "     \n",
    "def pretty_delete(url, access_token):\n",
    "    r = requests.Request('DELETE', url, headers=auth_header(access_token))\n",
    "    pr = r.prepare()\n",
    "    return parse_response(send(pr))\n",
    "\n",
    "def pretty_get(url):\n",
    "    r = requests.Request('GET', url)\n",
    "    pr = r.prepare()\n",
    "    return parse_response(send(pr))\n",
    "\n",
    "def pretty_post(url, access_token, data = {}):\n",
    "    r = requests.Request('POST', url, data = data, headers=auth_header(access_token))\n",
    "    pr = r.prepare()\n",
    "    return parse_response(send(pr))\n",
    "\n",
    "def pretty_put(url, access_token, data = {}):\n",
    "    r = requests.Request('PUT', url, data = data, headers=auth_header(access_token))\n",
    "    pr = r.prepare()\n",
    "    return parse_response(send(pr))\n",
    "    \n",
    "    \n",
    "# --- Basic REST calls, you'd probably use these in your own \n",
    "#     applications instead of the pretty-fied versions above. \n",
    "def delete(url, headers):\n",
    "    return parse_response(requests.delete(url, headers=headers))\n",
    "\n",
    "def get(url):\n",
    "    return parse_response(requests.get(url))\n",
    "    \n",
    "def post(url, headers, data = {}):\n",
    "    return parse_response(requests.post(url, data, headers=headers))\n",
    "\n",
    "def put(url, headers, data = {}):\n",
    "    return parse_response(requests.put(url, data, headers=headers))"
   ]
  },
  {
   "cell_type": "markdown",
   "metadata": {},
   "source": [
    "---\n",
    "# Finding Concepts"
   ]
  },
  {
   "cell_type": "code",
   "execution_count": 5,
   "metadata": {},
   "outputs": [
    {
     "name": "stdout",
     "output_type": "stream",
     "text": [
      "-----------REQUEST-----------\n",
      "GET http://134.89.11.93:8082/anno/v1/observations/concepts\n",
      "\n",
      "\n",
      "None\n",
      "---------PARSED RESPONSE------------\n",
      "['1-gallon paint bucket', '2G Robotics structured light laser', '55-gallon drum', \"a'a\", 'abandoned research equipment', 'Abraliopsis', 'Abyssocucumis', 'Abyssocucumis abyssorum', 'Acanella', 'Acanthamunnopsis', 'Acanthamunnopsis milleri', 'Acanthascinae', 'Acanthascinae sp. 1', 'Acanthephyra', 'Acanthogorgia', 'Acantholiparis', 'Acanthoptilum', 'Acesta', 'Acesta mori', 'Acesta sphoni', 'Acharax', 'Acoustic Current Meter', 'Acoustic Doppler Current Profiler', 'Acoustic Probe', 'Acrocirridae', 'Actinauge', 'Actinauge verrillii', 'Actinernidae', 'Actinernus', 'Actiniaria', 'Actiniidae', 'Actiniidae sp. 1', 'Actinopteri', 'Actinoscyphia', 'Actinoscyphiidae', 'Actinostola', 'Actinostolidae', 'adhesive', 'Aegina', 'Aegina citrea', 'Aegina rosea', 'Aeginidae', 'Aeginura', 'Aeginura grimaldii', 'Aeolidiidae', 'Aequorea', 'Aequorea aequorea', 'Agalmatidae', 'Aglantha', 'Aglantha digitale', 'Aglaura', 'Agnatha', 'Agonidae', 'Alaria', 'Alariaceae', 'Alciopa', 'Alciopidae', 'Alcyonacea', 'Alcyoniidae', 'Aldrovandia', 'Alepocephalidae', 'Alepocephalus', 'Alepocephalus tenebrosus', 'Alia', 'Alia permodesta', 'Allapasus', 'Allapasus aurianticus', 'Allapasus sp. 1', 'Allapasus sp. 2', 'Allapasus sp. 3', 'Alternatipathes', 'Alvinella', 'Alvinella pompejana', 'Alvinellidae', 'Amblyraja hyperborea', 'Ammothea verenae', 'Ampharetidae', 'Ampheraster', 'Ampheraster marianus', 'Amphinomidae', 'amphipod tube mat', 'Amphipoda', 'Amphitrite', 'Anarrhichthys ocellatus', 'Anchinothria fissurata', 'anchor', 'Ancistrocheirus', 'Ancistrocheirus lesueurii ', 'Anguilliformes', 'Animalia', 'Anisotremus davidsonii', 'Annatiara', 'Annatiara affinis', 'Annelida', 'Anomura', 'Anoplogaster cornuta', 'Anoplopoma', 'Anoplopoma fimbria', 'Anotopteridae', 'Anotopterus nikparini', 'Antedonoidea', 'Anteliaster', 'antenna', 'Anthoathecata', 'Anthoptilum', 'Anthoptilum grandiflorum', 'Anthoptilum lithophilum', 'Anthosactis pearseae', 'Anthozoa', 'Antimora microlepis', 'Antipatharia', 'Antipathidae', 'Aphroditidae', 'Aplacophora', 'Apolemia', 'Apolemia lanosa', 'Apolemia rubriversa', 'Apolemia uvaria', 'Apolemiidae', 'Aporocidaris', 'Aporocidaris milleri', 'Apostichopus', 'Apostichopus californicus', 'Apostichopus leukothele', 'Apostichopus sp. 1', 'Appendicularia', 'Apristurus', 'Apristurus brunneus', 'Apristurus kampae', 'Apristurus spongiceps', 'Arachnactis', 'Araeosoma leptaleum', 'Archeterokrohnia docrickettsae', 'Archivesica gigas', 'Arctapodema', 'Argentinidae', 'Argyropelecus', 'Arhynchobatidae sp. C', 'Aristostomias scintillans', 'Arkosic sandstone', 'arm', 'Arthropoda', 'Asbestopluma', 'Asbestopluma monticola', 'Asbestopluma rickettsi', 'Asbestopluma sp. A', 'Ascidiacea', 'Asellota', 'ash', 'Asteriidae', 'Asterinidae', 'asteroid feeding depression', 'Asteroidea', 'Asteroidea sp. 1', 'Asteroidea sp. 3', 'Asteroidea sp. 6', 'Asteroidea sp. 8', 'Asteroidea sp. 9', 'Asteronyx', 'Asteronyx longifissus', 'Asteronyx loveni', 'Asthenactis', 'Asthenactis fisheri', 'Asthenactis papyraceus', 'Astropecten', 'Astropectinidae', 'Atelostomata', 'Atlantisella', 'Atolla', 'Atolla gigantea', 'Atolla parva', 'Atolla vanhoeffeni', 'Atolla wyvillei', 'Atorella', 'Atorella octogonus', 'Aulacoctena', 'Aulosphaera', 'Aurelia aurita', 'authigenic carbonate', 'Autonomous Monitoring Transponder', 'Aux camera', 'Aves', 'Avocettina', 'Avocettina bowersii', 'Bacillariophyceae', 'back deck', 'Bacteria', 'bacterial mat', 'bait', 'ball', 'balloon', 'Bargmannia', 'Bargmannia amoena', 'Bargmannia elongata', 'Bargmannia lata', 'barite', 'basalt', 'basaltic lava', 'Bassozetus nasus', 'Bathochordaeinae', 'Bathochordaeus', 'Bathochordaeus charon', 'Bathochordaeus mcnutti', 'Bathochordaeus sinker', 'Bathochordaeus stygius', 'Bathocyroe', 'Bathocyroe fosteri', 'Bathocyroidae', 'Bathophilus', 'Bathophilus filifer', 'Bathyagonus nigripinnis', 'Bathyalcyon', 'Bathyalcyon robustum', 'Bathybembix', 'Bathyceramaster careyi', 'Bathyceramaster elegans', 'Bathycongrus macrurus', 'Bathycrinidae', 'Bathycrinus', 'Bathycrinus complanatus', 'Bathycrinus equatorialis', 'Bathyctena', 'Bathyctena chuni', 'Bathyctenidae', 'Bathydoris aioca', 'Bathydorus', 'Bathydorus laevis spinosus', 'Bathydorus laniger', 'Bathydorus sp. 1', 'Bathylagidae', 'Bathylagoides wesethi', 'Bathylagus', 'Bathylagus pacificus', 'Bathymetrinae', 'Bathyphasma ovigerum', 'Bathyphellia', 'Bathyphellia australis', 'Bathyphysa conifera', 'Bathypterois', 'Bathypterois pectinatus', 'Bathyraja', 'Bathyraja abyssicola', 'Bathyraja cf. microtrachys', 'Bathyraja kincaidii', 'Bathyraja microtrachys', 'Bathyraja spinosissima', 'Bathyraja trachura', 'Bathysaurus mollis', 'Bathysiphon', 'Bathysiphon filiformis', 'Bathysiphon major', 'Bathyteuthis', 'Bathyteuthis berryi', 'beacon', 'beaker', 'bedding', 'Beggiatoa', 'Beggiatoales', 'behavior', 'Benthalbella', 'benthic barrel', 'benthic event detector', 'Benthic Flux Chamber', 'Benthic Instrument Node', 'benthic mooring', 'Benthic Respiration Chamber', 'Benthic Respiration System', 'Benthic Rover', 'benthic zone', 'Benthocodon', 'Benthoctopus', 'Benthoctopus robustus', 'Benthoctopus sp. 1', 'Benthodytes', 'Benthodytes aff. typica', 'Benthodytes sanguinolenta', 'Benthodytes sp. 1', 'Benthogone', 'Benthopecten', 'Benthopecten claviger', 'Benthopectinidae', 'benthos', 'Benthos spheres', 'Benthothuria', 'Beringraja binoculata', 'Beroe', 'Beroe abyssicola', 'Beroe cucumis', 'Beroe forskalii', 'Beroe gracilis', 'Beroida', 'Berryteuthis', 'Berryteuthis anonychus', 'Bio tube', 'biogenic carbonate', 'Biology box', 'bioluminesce', 'Bioluminescent screen', 'bioturbation uncategorized', 'Bird water sampler', 'Biremis', 'Bivalvia', 'black frame', 'black smoker', 'blade', 'block', 'Bolinopsidae', 'Bolinopsis', 'Bolinopsis infundibulum', 'Bolitaenidae', 'Bolocera', 'Bolocera kensmithi', 'bone', 'Bonelliida', 'Bonelliidae', 'Bonetree', 'Boreomysis', 'Boreomysis californica', 'Bothidae', 'Bothrocara', 'Bothrocara brunneum', 'Botrynema', 'Botrynema brucei', 'bottle', 'bottle-2', 'bottom mount', 'Bougainvilliidae', 'boulder', 'boundary', 'Box corer', 'Brachiopod Settlement Block', 'Brachiopoda', 'Brachyura', 'bract', 'Branchinotogluma', 'Branchiocerianthus', 'Branchiocerianthus imperator', 'breccia', 'Bregmaceros bathymaster', 'Brisaster', 'Brisaster townsendi', 'Brisingida', 'Brisingidae', 'bristle', 'broom', 'Bryozoa', 'Bubble Chamber', 'Bubble Meter', 'bubbles', 'Buccinidae', 'Buccinoidea', 'bucket', 'Bullseye level', 'burrow', 'burrowing', 'Bythitidae', 'Bythograea', 'Bythograea thermydron', 'Bythotiara', 'Bythotiara depressa', 'Bythotiara dolioeques', 'cable', 'cable spool', 'cable tracker', 'Cable-laying toolsled', 'Caecosagitta', 'Caecosagitta macrocephala', 'cage', 'caisson', 'Calanidae', 'Calantica moskalevi', 'caldera', 'calibrator', 'Callianassidae', 'Calliostoma', 'Calliostoma platinum', 'Calycophorae', 'Calycopsidae', 'Calycopsis', 'Calycopsis simulans', 'Calyptogena', 'Calyptogena diagonalis', 'Calyptogena elongata', 'Calyptogena extenta ', 'Calyptogena magnifica', 'Calyptogena pacifica', 'Calyptrophora', 'Calyptrophora laevispinosa', 'camera', 'Campanulariidae', 'Camptoplites sp. A', 'can', 'Cancridae', 'Cancridae sp. 1', 'Candelabridae', 'Candelabridae sp. 1', 'canyon', 'Caprellidae', 'Carangidae', 'carapace', 'carbon dioxide', 'carbon dioxide hydrate', 'carbonate', 'carcass', 'cardboard', 'Careproctus', 'Careproctus filamentosus', 'Careproctus gilberti', 'Careproctus kamikawai', 'Careproctus longifilis', 'Careproctus melanurus', 'Careproctus microstomus', 'Caridea', 'Caridea sp. 1', 'Caridea sp. 2', 'Carinaria japonica', 'Caryophyllia', 'Caryophyllia diomedeae', 'Caryophylliidae', 'Cataetyx', 'Cataetyx rubrirostris', 'Caulophacus', 'Caulophacus cyanae', 'cave', 'Cavolinia', 'Caymanostellidae', 'Centrolophidae', 'Cephalopoda', 'Cephalopyge', 'Cephalopyge trematoides', 'Cephalurus cephalus', 'Ceramaster', 'Ceramaster clarki', 'Ceramaster patagonicus', 'Ceramaster pointsurae', 'Ceriantharia', 'Ceriantharia sp. 1', 'Ceriantharia sp. 2', 'Ceriantharia sp. 3', 'Cerianthidae', 'Cestida', 'Cestidae', 'Cestum', 'Cestum veneris', 'Cetacea', 'Cetomimidae', 'Cetomimiformes', 'Cetostoma regani', 'Chaenophryne', 'Chaetodontidae', 'Chaetognatha', 'Chaetopteridae', 'Chaetopterus pugaporcinus', 'chalcopyrite', 'channel', 'Charistephane', 'Charistephane fugiens', 'Chauliodontinae', 'Chauliodus', 'Chauliodus macouni', 'Chaunacops coloratus', 'Chauvinelia', 'chert', 'Cherublemma emmelas', 'Chiarella', 'Chiarella centripetalis', 'Chiasmodon', 'Chiasmodon niger', 'Chiasmodontidae', 'Chilara', 'Chilara taylori', 'Chimaeridae', 'chimney', 'chimney inactive', 'Chionoecetes', 'Chionoecetes tanneri', 'Chiroteuthidae', 'Chiroteuthis', 'Chiroteuthis calyx', 'Chlorophyta', 'Chondrocladia lyra', 'Chondrocladia sp. 1', 'Chondrocladia sp. 4', 'Chondrocladia sp. A', 'Chonelasma', 'Chorilia', 'Chorilia longipes', 'Chromatonema', 'Chromatonema rubrum', 'Chrysaora', 'Chrysaora colorata', 'Chrysaora fuscescens', 'Chrysogorgia', 'Chrysogorgia monticola', 'Chrysogorgia pinnata', 'Chrysogorgiidae', 'Chuniphyes', 'Chuniphyes moserae', 'Chuniphyes multidentata', 'chute', 'Cidaridae', 'Circeaster pullus', 'Cirrata', 'Cirratulidae', 'Cirripedia', 'Cirroteuthis muelleri', 'Cirrothauma murrayi', 'Cirrothauma sp. 1', 'Citharichthys', 'Citharichthys sordidus', 'Cladorhiza', 'Cladorhiza caillieti', 'Cladorhiza evae', 'Cladorhiza kensmithi', 'Cladorhiza pteron', 'Cladorhizidae', 'Clam dumper', 'Clam Raceway', 'clamshell', 'clastic rock', 'Clathrate Bucket', 'Clausophyes', 'Clausophyes moserae', 'Clausophyes tropica', 'Clausophyidae', 'Clavularia', 'Clavularia grandiflora', 'Clavularidae', 'clay', 'clear shimmering vent', 'cliff', 'Clio', 'Clio polita', 'Clio pyramidata', 'Clione', 'Clione limacina', 'cloth', 'clothing', 'Clupeidae', 'Clupeiformes', 'Cnemidocarpa', 'Cnemidocarpa finmarkiensis', 'Cnidaria', 'CO2 Corral', 'CO2 Delivery Box', 'CO2 Delivery System', 'CO2 Exposure Vessel', 'CO2 liquid', 'CO2 Monitor Box', 'cobble', 'Coelorinchus', 'Coelorinchus scaphopsis', 'coiled fecal cast', 'colander', 'collapse pit', 'Colobonema', 'Colobonema sericeum', 'color bars', 'color calibration panel', 'Colossendeidae', 'Colossendeis', 'column', 'columnar jointed outcrop', 'Comatulida', 'Communications Cage', 'compass', 'Conchoecissa', 'concrete', 'conglomerate', 'Congridae', 'connecting', 'connector', 'connector cover', 'Conocara salmonea', 'contact', 'container', 'control', 'Cookeolus japonicus', 'Copepoda', 'coral transplant container', 'Corallimorpharia', 'Corallimorphidae', 'Corallimorphus', 'Corallimorphus denhartogi', 'Corallimorphus pilatus', 'Corallium', 'Cordagalma', 'corehole', 'Corolla', 'Corolla spectabilis', 'Coronatae', 'corral', 'Corynactis californica', 'Corynidae', 'Coryphaenoides', 'Coryphaenoides acrolepis', 'Coryphaenoides acrolepis-filifer complex', 'Coryphaenoides armatus-leptolepis-yaquinae complex', 'Coryphaenoides armatus-yaquinae complex', 'Coryphaenoides capito', 'Coryphaenoides filifer', 'Coryphaenoides leptolepis', 'Coryphaenoides pectoralis', 'Cottidae', 'Cottidae sp. 1', 'crack', 'Cranchia scabra', 'Cranchiidae', 'crane', 'Craseoa', 'Craseoa lathetica', 'crater pit', 'Creseidae', 'Creseis', 'Creseis virgula', 'crevice', 'Crinoidea', 'Crossaster borealis', 'Crossota', 'Crossota alba', 'Crossota millsae', 'Crossota rufobrunnea', 'crust', 'Crustacea', 'Crystallophyes', 'CTD', 'CTD pH Meter Cage', 'CTD pH Meter Platform', 'Ctenodiscus', 'Ctenodrilidae', 'Cucumariidae', 'Culeolus', 'Culeolus sp. 1', 'Culeolus sp. 2', 'Culeolus sp. A', 'Cunina', 'Cuninidae', 'current meter', 'cutter', 'Cyclopteridae', 'Cyclosalpa', 'Cyclosalpa affinis ', 'Cyclothone', 'Cyclothone acclinidens', 'Cyclothone pallida', 'Cyclothone signata', 'Cyema atrum', 'Cyematidae', 'cylinder', 'Cystechinus giganteus', 'Cystechinus loveni', 'Cystisoma', 'Cystisoma magna', 'Cystisoma pellucida', 'Cystocrepis setigera', 'Cystonectae', 'Cystoseira', 'dacite', 'Danaphos oculatus', 'data logger', 'Dawe', 'Decapoda', 'Deepstaria', 'Deepstaria enigmatica', 'Deepstaria reticulum', 'DEIMOS', 'Deiopea', 'Deiopea kaloktenota', 'Delectopecten', 'Demospongiae', 'Dendronotidae', 'Dendronotus patricki', 'Dendropathes', 'depression', 'Derichthyidae', 'Dermasterias', 'Desmophyes', 'Desmophyes annectens', 'Desmophyes haematogaster', 'Desmophyllum dianthus', 'detrital', 'detrital aggregate', 'detritus', 'Detritus Sampler', 'Dibranchus', 'Dibranchus hystrix', 'Dibranchus sp. A', 'Dibranchus spinosus', 'dike', 'Diogenidae', 'Diomedea', 'Diphyidae', 'Diplophos pacificus', 'Dipsacaster', 'Dissolution Ball', 'Distichoptilum', 'Distichoptilum gracile', 'Ditropichthys storeri', 'diving', 'Doc Ricketts', 'Docosaccus maculatus', 'Dofleinia', 'Dolioletta', 'Doliolida', 'Doliolida 2', 'Doliolidae', 'Doliolinetta', 'Doliolula', 'Doliolula equus', 'Doliolum', 'Doliopsidae', 'dongo', 'donk', 'Doridacea', 'Dorvilleidae', 'Doryteuthis', 'Doryteuthis opalescens', 'Dosidicus gigas', 'drainback', 'drained lobe', 'drained pillow', 'drawer', 'drill', 'drill bit', 'Dromalia', 'Dromalia alexandri', 'drop weight', 'Dryodora glandiformis', 'Dye Injector', 'Dytaster gilberti', 'ear', 'Earleria', 'Earleria corachloeae', 'Earleria purpurea', 'Echinacea', 'Echinaster', 'Echinasteridae', 'Echinidea', 'Echinocrepis', 'Echinocrepis rostrata', 'Echinodermata', 'Echinoidea', 'Echiura', 'Ectenagena elongata', 'Eddy Flux Package', 'Edwardsia', 'Edwardsiidae', 'eggcase', 'eggs', 'Egregia', 'Egregia menziesii', 'Eirenidae', 'Eknomoliparis chirichignoae', 'Elasmobranchii', 'elevator', 'Elpidia', 'Elpidia sp. A', 'Embassichthys bathybius', 'Emergence Trap', 'enclosure', 'end effector', 'Engraulidae', 'Engraulis mordax', 'Enteroctopus dofleini', 'enteropneust hairpin fecal cast', 'enteropneust mixed-type fecal cast', 'enteropneust spiral fecal cast', 'Enteropneusta', 'Entosphenus tridentatus', 'Environmental Sample Processor', 'Enypniastes', 'Eopsetta jordani', 'Epizoanthus stellaris', 'Eptatretus', 'Eptatretus sinus', 'equipment', 'Erenna', 'Erenna cornuta', 'Erenna insidiator', 'Erenna laciniata', 'Erenna richardi', 'Erenna sirena', 'Eretmichthys pinnatus', 'eroded surface', 'erratic stone', 'Escarpia', 'Escarpia spicata', 'Eualus', 'Eualus macrophthalmus', 'Euchaeta', 'Euchirella bitumida', 'Euchone', 'Eucryphycus californicus', 'Euechinoidea', 'Eukrohnia', 'Eukrohnia bathyantarctica', 'Eukrohnia fowleri', 'Eukrohnia hamata', 'Eulimidae', 'Eumalacostraca', 'Eumedusa', 'Euphausia', 'Euphausia 2', 'Euphausia pacifica', 'Euphausiacea', 'Euphausiidae', 'Euphysa', 'Euphysora', 'Euphysora gigantea', 'Euphysora valdiviae', 'Euplectella', 'Euplectellidae', 'Euplokamidae', 'Euplokamis', 'Euplokamis dunlapae', 'Euretidae', 'Eurycope', 'Eusergestes similis', 'Eutima', 'Eutonina', 'Eutonina indicans', 'Evoplosoma', 'Evoplosoma claguei', 'Exocoelactis', 'Extensometer', 'external battery pack', 'eye', 'Eye-in-the-Sea', 'fabric', 'Facciolella', 'Fariometra parvula', 'Farrea', 'Farrea occa', 'Farrea truncata complex', 'fault', 'fault scarp', 'Fauveliopsidae', 'fecal cast', 'fecal material', 'fecal pellet', 'Fecampiid eggcase', 'Fecampiida', 'field of view', 'field of view 24', 'field of view 30', 'field of view 36', 'field of view 39', 'fin ray', 'Firoloida', 'fish trap', 'fishing float', 'fissure', 'Fissurellidae', 'Flabellifera', 'Flabelligeridae', 'flange', 'float', 'Florometra serratissima', 'Flota', 'Flota vitjasi', 'fold', 'folded flow', 'foot', 'footprint', 'Foraminifera', 'Forcipulatida', 'Forskalia', 'Forskalia edwardsi', 'Forskalia formosa', 'fossil', 'fracture', 'Free Ocean CO2 Experiment', 'Freyellaster', 'Freyellaster fecundus', 'Frillagalma', 'Frillagalma vityazi', 'Fritillaria', 'Fritillariidae', 'fry scoop', 'Fungiacyathus marenzelleri', 'Funiculina', 'Funiculina-Halipteris complex', 'gabbro', 'Gadidae', 'Gadiformes', 'Galathea', 'Galatheidae', 'Galatheoidea', 'galena', 'Galiteuthis', 'Galiteuthis pacifica', 'Galiteuthis phyllura', 'Gammaridea', 'gas', 'gas hydrate', 'Gas Sampler I', 'Gas Sampler II', 'gas vent', 'Gas-tight Water Sampler', 'Gastropoda', 'Gastropoda sp. 2', 'Gastropoda sp. 3', 'Gastroptychus', 'Gastroptychus iaspis', 'Gastroptychus perarmatus', 'gastrozooid', 'gauge', 'Gaussia', 'geological feature', 'Gersemia juliepackardae', 'Geryonia', 'Geryonia proboscidalis', 'Geryoniidae', 'ghost tail', 'Gigantocypris', 'Gigantocypris agassizii', 'Gigantocypris dracontovalis', 'gills', 'GIS map', 'glass', 'Glass Suction Sampler', 'Glyceridae', 'Glyphocrangon vicaria', 'Glyptocephalus zachirus', 'Gnathophausia', 'Gnathophis cinctus', 'Go-Flo Bottle', 'gonads', 'Gonatidae', 'Gonatopsis', 'Gonatopsis borealis', 'Gonatopsis octopedatus', 'Gonatus', 'Gonatus berryi', 'Gonatus onyx', 'Gonatus pyros', 'Goniadidae', 'Goniasteridae', 'Gorgonacea', 'Gorgonocephalidae', 'Gorgonocephalus', 'Gorgonocephalus eucnemis', 'grab respirometer', 'grabbing', 'graduated cylinder', 'Graneledone', 'Graneledone boreopacifica', 'granite', 'granodiorite', 'gravel', 'graywacke', 'grid', 'Grimpoteuthis', 'Grimpoteuthis sp. 1', 'Grimpoteuthis sp. 4', 'Grimpoteuthis sp. 5', 'groove', 'gully', 'Guralp seismometer', 'Gymnopraia', 'Gymnopraia lapislazula', 'Gymnopraia lapislazuli', 'Gymnosomata', 'Gymnothorax berndti', 'Haddock', 'Haeckelia', 'Haeckelia rubra', 'Halicreas', 'Halicreas minimum', 'Halicreatidae', 'Haliphron atlanticus', 'Halipteris californica', 'Haliscera', 'Haliscera bigelowi', 'Haliscera conica', 'Halistemma', 'Halistemma rubrum', 'Halitrephes', 'Halitrephes maasi', 'Haploops lodo', 'Harmothoe', 'Harriotta raleighana', 'Hastigerinella digitata', 'head', 'Heat Flow Probe', 'Helicosalpa', 'Helicosalpa virgula', 'Hemichordata', 'Henactis seepala', 'Henricia', 'Henricia sp. 1', 'Hesionidae', 'Heterochone calyx', 'Heterokrohnia', 'Heterokrohnia involucrum', 'Heteropathes', 'Heteropolypus', 'Heteropolypus ritteri', 'Heterotiara', 'Heterotiara minor', 'Heterozonias alternatus', 'Hexacorallia', 'Hexactinella', 'Hexactinellida', 'Hexactinellida sp. 1', 'Hexactinellida sp. 2', 'Hexactinellida sp. 3', 'Hexactinellida sp. 6', 'Hexagrammidae', 'Hexatrygon bickelli', 'hide', 'High Temperature Probe', 'High Temperature Recorder', 'Hippasteria', 'Hippasteria californica', 'Hippasteria lepidonotus', 'Hippasteria phrygiana', 'Hippasteria tiburoni', 'Hippoglossina stomata', 'Hippopodiidae', 'Hirudinea', 'Histioteuthidae', 'Histioteuthis', 'Histioteuthis heteropsis', 'hole', 'Hollardia', 'Holothuria', 'Holothuria zacae', 'Holothuroidea', 'Holothuroidea sp. 3', 'Holothuroidea sp. 4', 'Holothuroidea sp. 5', 'Holothuroidea sp. 6', 'Holothuroidea sp. 7', 'Homerpro', 'Hopper with Glass Marbles', 'Hormathiidae', 'Hormathiidae sp. 1', 'Hormiphora', 'Hormiphora californensis', 'hornito', 'hose', 'housing', 'Howella brodiei', 'human', 'Hyalocylis striata', 'Hyalonema', 'Hyalonema bianchoratum', 'Hyalonema populiferum', 'Hyalonema sp. 1', 'Hydractinia', 'Hydractiniidae', 'Hydrasterias', 'Hydrate Bucket I', 'Hydrate Cylinder', 'Hydrate Experiment', 'Hydrate Exposure Vessel I', 'Hydrate Exposure Vessel II', 'Hydrate Observatory II', 'Hydrate Synthesis Chamber', 'Hydraulic Push Corer', 'hydrocarbon', 'Hydroidolina', 'Hydrolagus', 'Hydrolagus colliei', 'Hydrolagus melanophasma', 'Hydromedusae', 'hydrothermal alteration', 'hydrothermal clay', 'hydrothermal crust', 'hydrothermal sediment and bacterial floc mixture', 'hydrothermal vent', 'Hydrozoa', 'Hymenaster', 'Hymenaster koehleri', 'Hymenodiscus', 'Hymenodora frontalis', 'Hymenopenaeus doris', 'Hyocrinidae', 'Hyperiidae', 'Icelinus', 'Icelinus burchami', 'Icelinus filamentosus', 'Icichthys lockingtoni', 'Icosteus aenigmaticus', 'Idas', 'Idiacanthinae', 'Idiacanthus', 'Idiacanthus antrostomus', 'In Situ Ultraviolet Spectrophotometer', 'ink', 'Ink Dispenser', 'inking', 'inner filter', 'interpretation', 'Iosactis', 'Iosactis vagabunda', 'Ipnopidae', 'Iridogorgia', 'iron oxide', 'Ischnomesidae', 'Isidella', 'Isidella tentaculum', 'Isididae', 'Isopoda', 'Isosicyonis', 'Japetella', 'Japetella diaphana', 'Javania cailleti', 'joint', 'Kali', 'Kali kerberti', 'kelp holdfast', 'Kephyes', 'Kephyes ovata', 'Keratoisis', 'Kiyohimea', 'Kiyohimea usagi', 'knife', 'knotted fecal cast', 'Kophobelemnidae', 'Kophobelemnon', 'Kophobelemnon macrospinosum', 'Kophobelemnon sp. 1', 'Kowalevskia', 'Kraft raptor', 'Krill molt', 'label', 'Laetmogone', 'Laetmogone wyvillethomsoni', 'Laetmogonidae', 'Laetmonice', 'lag deposit', 'Lagenorhynchus obliquidens', 'Lagrangian sediment trap', 'Lamberticrinus messingi', 'Lamellibrachia', 'Laminaria', 'Laminariales', 'Lampanyctus', 'Lampea', 'Lampocteis', 'Lampocteis cruentiventer', 'Lanceola', 'Lanceolidae', 'Lanceoloidea', 'Laqueus californianus', 'larvacean house', 'Larval Sampler', 'Larval Tray', 'Laser Raman', 'lasers', 'last name', 'latch', 'launch', 'lava channel', 'lava flow', 'lava form', 'lava pillar', 'lava pond', 'lava ring', 'lava tube', 'lava whorl', 'lavacicle', 'Leachia danae', 'lead line', 'Lebensspuren', 'ledge', 'leg', 'Lensia', 'Lensia achilles', 'Lensia conoidea', 'Lensia havock', 'Lensia hostile', 'Lensia hotspur', 'Lepadidae', 'Lepadomorpha', 'Lepas', 'Lepetodrilus', 'Lepidion', 'Lepidisis', 'Lepidopsetta bilineata', 'Leptocephalus-2', 'Leptostraca', 'Leptothecata', 'Leptychaster', 'Lestidium', 'Leuckartiara', 'Leucothea', 'Leucothea pulchra', 'Leuroglossus', 'Leuroglossus stilbius', 'Lexan Top Hat', 'lights', 'Lillipathes', 'Lilyopsis', 'Lilyopsis fluoracantha', 'limu o Pele', 'line', 'linear structure', 'Liopropoma longilepis', 'Liparidae', 'Liparidae sp. 1', 'Liparidae sp. 2', 'Liponema', 'Liponema brevicorne', 'Liriope', 'Liriope tetraphylla', 'Lithodes', 'Lithodes couesi', 'Lithodidae', 'Lithodoidea', 'Lobata', 'lobate flow', 'lobe', 'locomotory trace', 'Loliginidae', 'Lollipocladia tiburoni', 'Lopadorhynchidae', 'Lopadorrhynchus', 'Lophaster', 'Lophaster furcilliger', 'Lophiiformes', 'Lophiodes caulinaris', 'Lophiodes miacanthus', 'Lopholithodes foraminatus', 'Loxorhynchus crispatus', 'LRJ complex', 'Luciobrotula sp. A', 'Luidia', 'Luidia foliolata', 'Lumpenus sagitta', 'Lycenchelys', 'Lycenchelys crotalinus', 'Lycenchelys sp. 1', 'Lychnagalma', 'Lychnagalma utricularia', 'Lycodapus', 'Lycodapus fierasfer', 'Lycodapus mandibularis', 'Lycodes', 'Lycodes cortezianus', 'Lycodes diapterus', 'Lycodes pacificus', 'Lyopsetta exilis', 'Lysianassidae', 'Lyssacinosida', 'Lyssacinosida sp. 1', 'Macon', 'Macrocystis', 'Macrocystis pyrifera', 'Macropinna microstoma', 'Macroregonia', 'Macroregonia macrochira', 'Macrouridae', 'Macrourinae sp. 1', 'magnetometer', 'Magnisudis atlantica', 'main camera', 'Majidae', 'Malacostraca', 'Maldanidae', 'manganese crust', 'manganese nodule', 'manganese oxide', 'manipulator', 'mantle', 'manufactured wood', 'marble', 'Maresearsia praeclara', 'marine organism', 'marine snow', 'Marrus', 'Marrus claudanielis', 'Marrus orthocanna', 'MARS Node', 'Mastigoteuthis', 'Mastigotragus', 'mating', 'McFarlane', 'McStar', 'Mediaster', 'Mediaster aequalis', 'Mediaster tenellus', 'medusa carcass', 'Medusae', 'Medusettidae', 'Megacalanidae', 'Megacalanus', 'Megalodicopia', 'Megalodicopia hians', 'Megaptera novaeangliae', 'Melamphaes', 'Melamphaidae', 'Melanocetus', 'Melanostigma', 'Melanostigma pammelas', 'Melanostomiinae', 'Melicertum', 'Melicertum octocostatum', 'Merlucciidae', 'Merluccius productus', 'Mertensiidae', 'Mesochordaeus', 'Mesochordaeus erythrocephalus', 'Mesoikopleura', 'Metacarcinus', 'Metacarcinus magister', 'metagraywacke', 'metal', 'metal scoop', 'metamorphic rock', 'methane', 'methane hydrate', 'Methane Sensor', 'Metridiidae', 'Metridium', 'Metridium farcimen', 'Microstomus', 'Microstomus pacificus', 'Midwater Respirometry System', 'military', 'Mimonectes', 'mineral', 'miscellany', 'Mistoprayina fragosa', 'Mitrella', 'Mitrocoma', 'Mitrocoma cellularia', 'Mitrocomidae', 'Modeeria rotunda', 'Mollusca', 'molt', 'mongo', 'monofilament line', 'Monterey formation', 'Monterey Ocean Bottom Broadband', 'Moonpool', 'mooring', 'Moridae', 'mound', 'mouth', 'mucous string', 'mucous web', 'mud', 'mud ball', 'mud volcano', 'mudstone', 'mung', 'Munida', 'Munida bapensis', 'Munida quadrispina', 'Munididae', 'Munidopsidae', 'Munidopsis', 'Munidopsis bracteosa', 'Munidopsis recta', 'Munidopsis sp. 1', 'Munidopsis sp. 2', 'Munidopsis sp. A', 'Munidopsis tiburon', 'Munneurycope', 'Munneurycope murrayi', 'Munnopsidae', 'Munnopsinae', 'Munnopsis', 'Munnopsis abyssalis', 'Munnopsurus', 'muscle', 'Mustelus henlei', 'Mycalidae', 'Myctophidae', 'Myctophiformes', 'Myliobatis californica', 'Mysida', 'Mysidacea', 'Mysidae', 'Mysidella americana', 'Myxicola', 'Myxinidae', 'Myxoderma', 'Myxoderma platyacanthum', 'Myxoderma sacculatum', 'Myzostomidae', 'Naiades', 'Nannobrachium regale', 'Nanomia', 'Nanomia 2', 'Nanomia bijuga', 'Narcomedusae', 'Narella', 'Narella bowersi', 'Nausithoe', 'Nausithoidae', 'Nearchaster', 'Nebalia', 'Nebaliopsis', 'Nectadamas', 'Nectadamas diomedeae', 'Nectoliparis', 'Nectoliparis pelagicus', 'Nectonemertes', 'nectophore', 'Nectopyramidinae', 'Nectopyramis natans', 'Nemertea', 'Nemertea sp. A', 'Nemichthyidae', 'Nemichthys', 'Neolithodes', 'Neolithodes diomedae', 'Neoloricata', 'Neoturris', 'Neoturris breviconis', 'Neovermilia', 'Neptunea', 'Neptunea amianta', 'Neptunea-Buccinum Complex', 'Nereididae', 'Nereis', 'Nereis sandersi', 'Nereocystis', 'Nereocystis luetkeana', 'net', 'Nettastoma', 'Nettastoma parviceps', 'Nettastomatidae', 'Neverita lewisii', 'Nezumia', 'Nezumia stelgidolepis', 'Niskin', 'nodule', 'Nomeidae', 'Notobranchaea', 'Notobranchaea macdonaldi', 'Nuculana', 'Nudibranchia', 'Nymphaster diomedeae', 'Oasisia', 'object', 'Ocean Acidification (OA40) instrument package', 'Ochrophyta', 'Octacnemidae', 'Octacnemidae sp. 1', 'Octacnemus sp. 1', 'Octocorallia', 'Octogonade', 'Octogonade mediterranea', 'Octopoda', 'Octopodidae', 'Octopodiformes', 'Octopoteuthis', 'Octopoteuthis deletron', 'Octopus', 'Octopus californicus', 'Octopus rubescens', 'Ocyropsidae', 'Ocyropsis', 'Oegopsida', 'Oenonidae', 'Ogcocephalidae', 'Oikopleura', 'Oikopleura villafrancae', 'Oikopleuridae', 'Oikopleurinae', 'Oloughlinius', 'Oloughlinius sp. 1', 'Oloughlinius sp. 2', 'Oneirodes', 'Oneirophanta mutabilis complex', 'Onuphidae', 'Onykia', 'Onykia robusta ', 'Ophiacantha', 'Ophiacanthidae', 'Ophichthus frontalis', 'Ophidiidae', 'Ophidiiformes', 'Ophiodon', 'Ophiodon elongatus', 'Ophiomusium', 'Ophiurida', 'Ophiuridae', 'Ophiuroidea', 'Opisthoteuthidae', 'Opisthoteuthis', 'Opisthoteuthis cf. californiana', 'Opisthoteuthis sp. A', 'Oplophoridae', 'Orange', 'organism part', 'Osedax', 'Osedax frankpressi', 'Osedax rubiplumus', 'Osmeridae', 'Osmo Analyzer', 'Osmo Flow Meter', 'Osmo Sampler', 'Osteodiscus', 'Osteodiscus cascadiae', 'Ostracoda', 'Otariidae', 'outer filter', 'oxygen minimum zone', 'Pachycara', 'Pachycara bulbiceps', 'Pachycerianthus', 'Paelopatides', 'Paelopatides confundens', 'Paguridae', 'Paguristes', 'Paguroidea', 'Pagurus tanneri', 'Pandalidae', 'Pandaloidea', 'Pandalopsis', 'Pandalopsis ampla', 'Pandalus', 'Pandalus platyceros', 'Pandea', 'Pandea rubra', 'Pandeidae', 'Pannychia', 'Pannychia moseleyi', 'Pantachogon', 'Pantachogon haeckeli', 'paper', 'Paracallisoma', 'Paracyathus', 'Paracyathus stearnsii', 'Paradiopatra', 'Paradoliopsis', 'Paradoliopsis harbisoni', 'Paragorgia', 'Paragorgia arborea', 'Paragorgiidae', 'Parahyocrinus claguei', 'Paralabrax auroguttatus', 'Paralepididae', 'Paralichthys californicus', 'Paraliparis', 'Paraliparis cephalus', 'Paraliparis dactylosus', 'Paraliparis megalopus', 'Paraliparis rosaceus', 'Paralithodes', 'Paralithodes californiensis', 'Paralithodes rathbuni', 'Paralomis', 'Paralomis cf. papillata', 'Paralomis multispina', 'Paralomis verrilli', 'Paralvinella', 'Paramunnopsis', 'Parantipathes', 'Parapagurus', 'Parapagurus cf. foraminosus', 'Paraphronima', 'Paraphyllina', 'Paraphyllina ransoni', 'Paraphyllinidae', 'Parasergestes halia', 'Parastenella', 'Parastenella gymnogaster', 'Parmaturus', 'Parmaturus xaniurus', 'Parophrys', 'Parophrys vetulus', 'Paropsurus', 'Paropsurus giganteus', 'Particle Injector', 'particulate', 'Parvilux', 'Parvilux ingens', 'Pasiphaea', 'Pasiphaea emarginata', 'Pasiphaea pacifica', 'Pasiphaeidae', 'patch test target', 'Patellogastropoda', 'Patiria miniata', 'Paulasterias mcclaini', 'pavement', 'pebble', 'Pectinidae', 'Pedicellaster', 'Pedicellasteridae', 'Pedicellasteridae sp. 2', 'Peeper', 'Pegantha', 'Pegantha clara', 'Pegea', 'Pegea confoederata', 'Pelagia', 'Pelagia noctiluca', 'Pelagobia', 'Pelagobia longicirrata', 'penetrometer', 'Peniagone', 'Peniagone gracilis', 'Peniagone papillata', 'Peniagone sp. 1', 'Peniagone sp. 2', 'Peniagone sp. A', 'Peniagone vitrea', 'Peniagone vitrea- sp. 1 complex', 'Pennatula', 'Pennatula murrayi', 'Pennatula phosphorea', 'Pennatulacea', 'Pennatulacea sp. 3', 'Pennatulidae', 'Pentametrocrinus', 'Pentametrocrinus paucispinulus', 'Peracarida', 'Peraclidae', 'Peribolaster', 'Peribolaster biserialis', 'Periphylla', 'Periphylla periphylla', 'Periphyllidae', 'Periphyllopsis', 'Petalidium suspiriosum', 'Petalophthalmus armiger', 'petroleum', 'pH meter', 'pH Pod', 'pH probe', 'pH Profiler', 'Phacellophora camtschatica', 'Phaeodaria', 'Phallonemertes', 'Phialella', 'Phialidium', 'Phoca', 'photic zone', 'Photographic Benthic Observing System', 'Phragmophora sp. A', 'Phreagena kilmeri', 'Phronima', 'Phronima sedentaria', 'Phylliroe', 'Phyllocarida', 'Phyllochaetopterus gigas', 'Phyllodocida', 'Phyllospadix detritus', 'Phyllospadix Settlement Rake', 'physical object', 'Physiculus nematopus-rastrelliger complex', 'Physiculus rastrelliger', 'Physiculus sp. 1', 'Physonectae', 'Physophora', 'Physophora hydrostatica', 'phytodetritus', 'pillow bud', 'pillow lava', 'Pillsburiaster ernesti', 'pincer', 'Pinnoidea', 'Pisaster', 'piston push corer', 'pit', 'Planctoteuthis', 'Planctoteuthis danae', 'Planctoteuthis oligobessa', 'plankton', 'Planktonetta', 'Plantae', 'plastic', 'plastic bag', 'Platyhelminthes', 'Plesionika', 'Plesionika sanctaecatalinae', 'Plesiopenaeus', 'Plesiopenaeus armatus', 'Pleurobrachia', 'Pleurobrachia bachei', 'Pleurobranchaea', 'Pleurobranchaea californica', 'Pleuroncodes', 'Pleuroncodes planipes', 'Pleuronectidae', 'Pleuronectiformes', 'Pleuronectiformes 2', 'Pleuronichthys coenosus', 'Plexauridae', 'Plume Particle Sampler', 'pneumatophore', 'Pneumodermatidae ', 'pockmark', 'Poecilosclerida', 'Poecilostomatoida', 'Poeobius', 'Poeobius 2', 'Poeobius meseres', 'Point Lobos', 'Polinicinae', 'Polychaeta', 'Polychaeta tube', 'Polycheles', 'Polychelidae', 'Polychelidae 2', 'Polymastia', 'Polynoidae', 'Polynoinae', 'Polyorchis', 'polyp', 'polypropylene line', 'Pomacentridae', 'ponded sediment', 'Pontinus furcirhinus', 'Pontodora pelagica', 'Poralia', 'Poralia rufescens', 'Poraniopsis', 'Poraniopsis inflata', 'Porichthys', 'Porifera', 'Porifera sp. 1', 'Porifera sp. 3', 'Porogadus', 'portable video camera', 'pothole', 'Pourtalesiidae', 'Praya', 'Praya dubia', 'Prayidae', 'Prayinae', 'Primnoidae', 'Prionace glauca', 'probe', 'Procymbulia', 'Pronotogrammus eos', 'Propeamussium meridionale', 'Protis', 'Protista', 'Protoptilum', 'Protoptilum sp. 1', 'Protozoa', 'Provanna', 'Provannidae', 'Psamminidae', 'Psamminidae sp. 1', 'Psamminidae sp. 2', 'Psammogorgia', 'Psathyrometra fragilis', 'Psenes', 'Pseudarchaster dissonus', 'Pseudobathylagus', 'Pseudobathylagus milleri', 'Pseudosagitta', 'Pseudosagitta lyra', 'Pseudosagitta maxima', 'Pseudostichopus', 'Pseudostichopus mollis', 'Pseudothecosomata', 'Pseudusa', 'Pseudusa bostigrinus', 'Psolidae', 'Psolus', 'Psolus squamatus', 'Psychrolutes phrictus', 'Psychrolutidae', 'Psychronaetes hanseni', 'Psychropotes', 'Psychropotes depressa', 'Psychropotes longicauda', 'Psychropotidae', 'Pteraster', 'Pterasteridae', 'Pteriomorphia', 'Pteropoda', 'Pterotrachea', 'Pterotracheidae', 'Pterotracheoidea', 'Pterygioteuthis hoylei', 'Ptilosarcus gurneyi', 'Ptychogastria polaris', 'Ptychogena', 'Ptychogena hyperborea', 'Ptychogena lactea', 'Purisima Formation', 'Push Corer', 'PVC pipe', 'Pycnogonida', 'Pycnopodia helianthoides', 'pyrite', 'Pyrosoma', 'Pyrosoma detritus', 'Pyrosomida', 'Pythonaster', 'Pythonaster sp. 1', 'Pyuridae', 'quartzite', 'quiver', 'Rachel Carson', 'Radiaster sp. 1', 'Radiozoa', 'Radiozoa detritus', 'Radium Sampler', 'Raja rhina', 'Raja stellulata', 'Rajidae', 'Rajiformes', 'Rajiformes sp. A', 'Rathbunaster', 'Rathbunaster californicus', 'recovery', 'Redhead sinker', 'Regadrella', 'Reisenbichler', 'Remote Instrument Node', 'Resomia', 'Resomia dunni ', 'Resomia ornicephala', 'Resomia persica', 'Resomiidae', 'respiring', 'Retimohnia sp. A', 'Rhinochimaeridae', 'Rhinoliparis barbulifer', 'Rhizophysa', 'Rhodaliidae', 'Rhopalonema', 'Rhopalonema velatum', 'Rhopalonematidae', 'Rhynchonereella', 'ridge', 'ridge crest', 'Ridgeia', 'Ridgeia piscesae', 'Riftia', 'Riftia pachyptila', 'ripples', 'Robison', 'rock', 'rock outcrop', 'rock wall', 'rope', 'rope fishing trap', 'ropy flow', 'Rosacea', 'Rossellidae', 'Rossellinae', 'Rossia pacifica', 'ROV', 'rubber', 'rubble', 'Rubyspira', 'Rubyspira osteovora', 'Rudjakovia', 'Rudjakovia plicata', 'Sabellariidae', 'Sabellidae', 'Saccocalyx', 'Saccocalyx pedunculatus', 'Saccopharynx', 'Saccopharynx lavenbergi', 'Sagenaster evermanni', 'Sagittidae', 'salp carcass', 'salp detritus', 'Salpa', 'Salpa fusiformis', 'Salpa maxima', 'Salpida', 'Salpidae', 'sand', 'sandstone', 'Sapphirina', 'Sardinops', 'Sardinops sagax', 'Sarsia', 'Saxipendium implicatum', 'scale', 'Scalpellidae', 'Scaphopoda', 'scarp', 'Schilling arm', 'schist', 'Schizopathidae', 'Schlining', 'Scina', 'Scinidae', 'Scinoidea', 'Scleractinia', 'Sclerothamnopsis', 'Sclerothamnopsis compressa', 'Scombridae', 'scoop bag', 'Scopelarchidae', 'Scopelarchus', 'Scopelengys tristis', 'Scopelogadus mizolepis bispinosus', 'Scopelosaurus', 'Scotoplanes', 'Scotoplanes globosa', 'Scotoplanes sp. A', 'scour surface', 'Scrippsia', 'Scrippsia pacifica', 'Scyliorhinidae', 'Scypholanceola', 'Scyphozoa', 'seafloor fuel cell', 'Sebastes', 'Sebastes aleutianus-melanostictus complex', 'Sebastes aurora', 'Sebastes babcocki', 'Sebastes chlorostictus', 'Sebastes cortezi', 'Sebastes crameri', 'Sebastes crameri-melanostomus complex', 'Sebastes diploproa', 'Sebastes elongatus', 'Sebastes entomelas', 'Sebastes flavidus', 'Sebastes goodei', 'Sebastes helvomaculatus', 'Sebastes jordani', 'Sebastes levis', 'Sebastes macdonaldi', 'Sebastes melanostomus', 'Sebastes ovalis', 'Sebastes paucispinis', 'Sebastes phillipsi', 'Sebastes pinniger', 'Sebastes ruberrimus', 'Sebastes rubrivinctus', 'Sebastes rufus', 'Sebastes saxicola', 'Sebastes semicinctus', 'Sebastes simulator', 'Sebastes zacentrus', 'Sebastidae', 'Sebastolobus', 'Sebastolobus alascanus', 'Sebastolobus altivelis', 'Sebastomus complex', 'Sedentaria', 'sediment', 'sediment disturbance', 'sediment probe', 'sediment trap', 'sedimentary rock', 'Sedimentation Event Sensor', 'seep', 'Seewald Gas Tight Sampler', 'seismometer', 'seismonument', 'Self Triggering Event Detector', 'Semaeostomeae', 'sequence', 'Sergestes', 'Sergestid molt', 'Sergestidae', 'Sergestoidea', 'Sergia', 'Sergia phorca', 'Serpulidae', 'Serranidae', 'Serrivomer', 'Serrivomer sector', 'Sessiliflorae', 'settlement trap', 'shackle', 'shadow', 'shale', 'sheet flow', 'shelf', 'shell', 'shell fragment', 'shell hash', 'shimmering', 'ship', 'ship wreckage', 'ship wreckage-2', 'shoe', 'shoe-2', 'Sibogagorgia cauliflora', 'Sibogaster', 'Siboglinidae', 'Sicyonis', 'Sicyonis careyi', 'Sicyonis sp. 1', 'Sicyopus commensalis', 'silica', 'silicic volcanic', 'siltstone', 'single groove track', 'single hole burrow', 'sinker', 'siphon', 'Siphonophorae', 'Sipuncula', 'sit camera', 'site marker', 'Situla', 'Situla sp. 1', 'skeleton', 'skylight', 'slickenside', 'slide', 'slope', 'slope break', 'slump', 'slump scarp', 'Sminthea', 'Smithsonius dorothea', 'Solaster', 'Solaster hypothrissus', 'Solasteridae', 'Solemyacea', 'Solemyidae', 'Solenosphaera', 'Solidosagitta zetesios', 'Solmaris', 'Solmarisidae', 'Solmissus', 'Solmissus incisa', 'Solmissus marshalli', 'Solmundella', 'Solmundella bitentaculata', 'Somniosus', 'Somniosus pacificus', 'sonar', 'Sonardyne beacon', 'Spatangoida', 'Spathoderma californicum', 'spatter', 'Spectrunculus', 'Spectrunculus grandis', 'Sphaeronectes', 'Sphaeronectes christiansonae', 'Sphaeronectes haddocki', 'Sphaeronectes tiburonae', 'spicule', 'spine', 'Spionida', 'Spionidae', 'Spirorbinae', 'SPS4', 'Squalidae', 'Squaliformes', 'Squalus suckleyi', 'Squatinidae', 'Squilla', 'stalagmite', 'stalk', 'Staurocalyptus', 'Stelechopus', 'Stellamedusa ventana', 'Stenobrachius', 'Stenobrachius leucopsarus', 'Stephalia', 'Stephalia dilata', 'Stephanomia', 'Stephanomia amphytridis ', 'stereo camera calibration cube', 'Sternoptychidae', 'Sternoptyx', 'Sternoptyx diaphana', 'Stigmatoteuthis dofleini', 'still-photo camera', 'stipe', 'Stomias', 'Stomias atriventer', 'Stomiidae', 'Stomiiformes', 'Stomiinae', 'Stomphia', 'Stomphia didemon', 'Storthyngura', 'Storthyngura pulchra', 'Streetsia', 'Strongylocentrotus', 'Strongylocentrotus cf. fragilis', 'Strongylocentrotus fragilis', 'structured light', 'Styelidae', 'Stygiomedusa gigantea', 'Stylaster', 'Stylaster californicus', 'Stylasterias forreri', 'Stylasteridae', 'Stylatula', 'Stylocordyla', 'Subselliflorae', 'Suction Sampler', 'sulfide', 'sulfide mineral', 'sunlit water', 'surface water', 'Swiftia', 'Swiftia kofoidi', 'Swiftia simplex', 'Swima', 'Swima bombiviridis', 'Swima fulgida', 'swimming', 'swimming bell', 'swing arm', 'Syllidae', 'Symphurus oligomerus', 'Synallactes', 'Synallactidae', 'Synallactidae gen. et sp. indet.', 'Synaphobranchidae', 'Synodontidae', 'Systellaspis', 'Tactostoma', 'Tactostoma macropus', 'tail', 'Talismania bifurcata', 'talus', 'talus chute', 'Taoniinae', 'Taonius', 'Taonius borealis', 'Tarletonbeania', 'Tarletonbeania crenularis', 'Tarsaster', 'Teleostei', 'temperature', 'Temperature Gradient Probe', 'Tenebrincola cukri', 'tentacle', 'Terebella', 'Terebellida', 'Terebellidae', 'Terebratulina', 'Tergivelum', 'Tergivelum baldwinae', 'Tergivelum sp. A', 'test', 'tether', 'Tetraplatia', 'Tetraplatia volitans', 'Tetronarce californica', 'Tetrorchis', 'Tetrorchis erythrogaster', 'Tetrorchis sp. A', 'Teuthoidea', 'Thalassinidea', 'Thalassocalyce', 'Thalassocalyce inconstans', 'Thaliacea', 'Thecosomata', 'Thenaria', 'Thenea', 'Thenea muricata', 'Theneidae', 'Thermarces', 'Thermarces cerberus', 'Thermocouple Array', 'Thermopalia', 'Thermopalia taraxaca', 'Thetys', 'Thetys vagina', 'Thliptodon', 'Thrissacanthias penicillatus', 'Tiaranna', 'Tiarannidae', 'Tiaropsidae', 'Tiaropsidium kelseyi', 'Tiburon', 'Tiburonia granrojo', 'Tiburonicrinus ornatus', 'Tima', 'time-lapse camera', 'tire', 'Titanium Major Water Sampler', 'Tochuina gigantea', 'Tomopterid eggcase', 'Tomopteridae', 'Tomopteris', 'Tomopteris nisseni', 'Tonrometra', 'Torquarator bullocki', 'Torquaratoridae sp. 4', 'Torquaratoridae sp. 5', 'TorquaratoridaeA sp. 1', 'TorquaratoridaeB sp. 1', 'TorquaratoridaeB sp. 2', 'Trachipteridae', 'Trachipterus altivelis', 'Trachurus symmetricus', 'Trachymedusae', 'trap', 'trash', 'Travisiopsis', 'trawl mark', 'trench', 'Triphoturus mexicanus', 'Trissopathes', 'Trissopathes pseudotristicha', 'Tritonia', 'Tritonia sp. A', 'Tritonia tetraquetra', 'Tritoniidae', 'Tromikosoma', 'Tromikosoma hispidum', 'Tromikosoma panamense', 'Tromikosoma sp. 1', 'tube', 'tubing', 'Tubularidae', 'tumulus', 'Tunicata', 'tweezers', 'Typhloscolecidae', 'Ulmaridae', 'Ulva', 'Umbellapathes', 'Umbellapathes bipinnata', 'Umbellula', 'Umbellula lindahli', 'Umbellula sp. 1', 'Umbellulidae', 'Urticina', 'Valettiopsis concava', 'Vampyrocrossota', 'Vampyrocrossota childressi', 'Vampyroteuthidae', 'Vampyroteuthis infernalis', 'vein', 'Velamen', 'Velamen parallelum', 'Velatida', 'Venefica', 'Veneroida', 'vent fluid', 'Ventana', 'venting', 'Vertebrata', 'Verum proximum', 'Vesicomya', 'Vesicomyidae', 'vibraclaw', 'Vibracorer', 'Vibrapeeper', 'video mosaic', 'Vigtorniella', 'Vinciguerria lucetia', 'Virgularia', 'Virgulariidae', 'Vitreosalpa', 'Vitreosalpa gemini', 'Vogtia', 'Vogtia serrata', 'volcanic breccia', 'volcanic glass', 'volcanic mudstone', 'volcanic rock', 'volcanic sandstone', 'volcanic siltstone', 'volcaniclastic rock', 'volcaniclastic sediment', 'Voragonema', 'Voragonema pedunculata', 'Vrijenhoekia balaenophila', 'Waffle Stomper', 'water', 'Water-lift', 'Wax corer', 'weight', 'Western Flyer', 'whale carcass', 'Whaling', 'white lattice sponge', 'white smoker', 'wood', 'wood fall experiment', 'Xeneretmus', 'Xeneretmus latifrons', 'Xeneretmus ritteri', 'Xenophyophoroidea', 'Xenoturbella', 'yellow ruffled sponge', 'Yoda sp. A', 'Yoda sp. B', 'Zalophus', 'Zalophus californianus', 'Zaniolepidinae', 'Zaniolepis', 'Zaniolepis latipinnis', 'Zoantharia', 'Zoarcidae', 'Zoroaster', 'Zoroasteridae', 'Zostera', 'Zostera marina', 'Zosteraceae']\n"
     ]
    }
   ],
   "source": [
    "# Get a list of all concepts that were used in annotations\n",
    "concept_url = observation_url + \"/concepts\"\n",
    "concepts = pretty_get(concept_url)\n",
    "print(\"---------PARSED RESPONSE------------\")\n",
    "print(concepts)\n"
   ]
  },
  {
   "cell_type": "markdown",
   "metadata": {},
   "source": [
    "---\n",
    "# Image Mining\n",
    "\n",
    "For help see the [Annotation API docs](https://app.swaggerhub.com/apis/mbari/annosaurus/1.0.1-oas3)"
   ]
  },
  {
   "cell_type": "code",
   "execution_count": 6,
   "metadata": {},
   "outputs": [
    {
     "name": "stdout",
     "output_type": "stream",
     "text": [
      "-----------REQUEST-----------\n",
      "GET http://134.89.11.93:8082/anno/v1/imagedmoments/concept/images/count/Aegina\n",
      "\n",
      "\n",
      "None\n",
      "URL: http://134.89.11.93:8082/anno/v1/imagedmoments/concept/images/count/Aegina\n",
      "404 (Not Found): Requesting \"GET /concept/images/count/Aegina\" on servlet \"/v1/imagedmoments\" but only have: <ul><li>DELETE /:uuid</li><li>DELETE /videoreference/:uuid</li><li>GET /</li><li>GET /:uuid</li><li>GET /concept/:name</li><li>GET /concept/count/:name</li><li>GET /imagereference/:uuid</li><li>GET /modified/:start/:end</li><li>GET /modified/count/:start/:end</li><li>GET /observation/:uuid</li><li>GET /videoreference</li><li>GET /videoreference/:uuid</li><li>PUT /:uuid</li></ul>\n",
      "\n"
     ]
    },
    {
     "ename": "KeyError",
     "evalue": "'count'",
     "output_type": "error",
     "traceback": [
      "\u001b[0;31m---------------------------------------------------------------------------\u001b[0m",
      "\u001b[0;31mKeyError\u001b[0m                                  Traceback (most recent call last)",
      "\u001b[0;32m<ipython-input-6-51ed864795f9>\u001b[0m in \u001b[0;36m<module>\u001b[0;34m()\u001b[0m\n\u001b[1;32m      4\u001b[0m \u001b[0;31m# Get a count of images of interest\u001b[0m\u001b[0;34m\u001b[0m\u001b[0;34m\u001b[0m\u001b[0m\n\u001b[1;32m      5\u001b[0m \u001b[0mimg_count_url\u001b[0m \u001b[0;34m=\u001b[0m \u001b[0mimaged_moments_url\u001b[0m \u001b[0;34m+\u001b[0m \u001b[0;34m\"/concept/images/count/\"\u001b[0m \u001b[0;34m+\u001b[0m \u001b[0mconcept\u001b[0m\u001b[0;34m\u001b[0m\u001b[0m\n\u001b[0;32m----> 6\u001b[0;31m \u001b[0mimg_count\u001b[0m \u001b[0;34m=\u001b[0m \u001b[0mpretty_get\u001b[0m\u001b[0;34m(\u001b[0m\u001b[0mimg_count_url\u001b[0m\u001b[0;34m)\u001b[0m\u001b[0;34m[\u001b[0m\u001b[0;34m\"count\"\u001b[0m\u001b[0;34m]\u001b[0m\u001b[0;34m\u001b[0m\u001b[0m\n\u001b[0m\u001b[1;32m      7\u001b[0m \u001b[0;34m\u001b[0m\u001b[0m\n\u001b[1;32m      8\u001b[0m \u001b[0;31m# Fetch a few of the images\u001b[0m\u001b[0;34m\u001b[0m\u001b[0;34m\u001b[0m\u001b[0m\n",
      "\u001b[0;31mKeyError\u001b[0m: 'count'"
     ]
    }
   ],
   "source": [
    "# Concept of interest\n",
    "concept = \"Aegina\"\n",
    "\n",
    "# Get a count of images of interest\n",
    "img_count_url = imaged_moments_url + \"/concept/images/count/\" + concept\n",
    "img_count = pretty_get(img_count_url)[\"count\"]\n",
    "\n",
    "# Fetch a few of the images\n",
    "img_url = imaged_moments_url + \"/concept/images/\" + concept + \"?limit=2\"\n",
    "imgs = pretty_get(img_url)\n",
    "print(\"---------PARSED RESPONSE------------\")\n",
    "print(imgs)\n"
   ]
  },
  {
   "cell_type": "code",
   "execution_count": null,
   "metadata": {},
   "outputs": [],
   "source": []
  }
 ],
 "metadata": {
  "kernelspec": {
   "display_name": "Python 3",
   "language": "python",
   "name": "python3"
  },
  "language_info": {
   "codemirror_mode": {
    "name": "ipython",
    "version": 3
   },
   "file_extension": ".py",
   "mimetype": "text/x-python",
   "name": "python",
   "nbconvert_exporter": "python",
   "pygments_lexer": "ipython3",
   "version": "3.6.8"
  }
 },
 "nbformat": 4,
 "nbformat_minor": 2
}
